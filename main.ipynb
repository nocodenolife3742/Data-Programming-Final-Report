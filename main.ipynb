{
 "cells": [
  {
   "metadata": {
    "ExecuteTime": {
     "end_time": "2024-06-19T17:19:34.079090Z",
     "start_time": "2024-06-19T17:19:31.893697Z"
    }
   },
   "cell_type": "code",
   "source": [
    "import pandas as pd\n",
    "import numpy as np\n",
    "import matplotlib.pyplot as plt\n",
    "import plotly.express as px\n",
    "import os\n",
    "import re"
   ],
   "id": "2f2e0217c5ff0cc9",
   "outputs": [],
   "execution_count": 1
  },
  {
   "metadata": {
    "ExecuteTime": {
     "end_time": "2024-06-19T18:14:33.799319Z",
     "start_time": "2024-06-19T18:14:33.792349Z"
    }
   },
   "cell_type": "code",
   "source": [
    "# helper function\n",
    "def remove_unused_labels(data: pd.DataFrame):\n",
    "    unused_labels = ['學校統計處代碼', '學期', '設立別', '學校類別', '學校統計', '處代碼', '系所代碼', '系所名稱',\n",
    "                     '學制班別', '性別', '學制班別(日間)', '在學學生數']\n",
    "    for label in unused_labels:\n",
    "        if label not in data.columns:\n",
    "            continue\n",
    "        data = data.drop(label, axis=1)\n",
    "    return data\n",
    "\n",
    "def rename_columns(data: pd.DataFrame):\n",
    "    columns = list(data.columns)\n",
    "    for index, column in enumerate(columns):\n",
    "        columns[index] = re.sub('申請延長修業年限因素之學生人數-', '延修人數-', columns[index])\n",
    "        columns[index] = re.sub('於學年底處於休學狀態之人數-', '休學人數-', columns[index])\n",
    "        columns[index] = re.sub('學期間退學人數-', '退學人數-', columns[index])\n",
    "        columns[index] = re.sub('在學學生數', '在學學生數-', columns[index])\n",
    "        columns[index] = re.sub('小計', '總計', columns[index])\n",
    "    data.columns = columns\n",
    "    return data\n",
    "\n",
    "def convert_to_average_rank(rank: str):\n",
    "    rank = rank.replace(\"-\", \"–\") # there are two types of dashes in the dataset, so we replace it with \"–\"\n",
    "    if \"–\" in rank:  # check if the rank contains \"–\"\n",
    "        numbers = map(int, rank.split(\"–\"))  # split the rank into two numbers\n",
    "        return sum(numbers) / 2  # calculate the average of the two numbers\n",
    "    else:\n",
    "        return int(rank)  # return the rank as an integer\n",
    "        "
   ],
   "id": "aae7d379f64b1756",
   "outputs": [],
   "execution_count": 35
  },
  {
   "metadata": {
    "ExecuteTime": {
     "end_time": "2024-06-19T17:19:40.973444Z",
     "start_time": "2024-06-19T17:19:34.086336Z"
    }
   },
   "cell_type": "code",
   "source": [
    "# 1. 台灣大學學生資料\n",
    "# create folder if not exist\n",
    "if not os.path.exists('./data'):\n",
    "    os.makedirs('./data')\n",
    "\n",
    "# define categories and urls\n",
    "categories = ['在學學生數', '延修', '休學', '退學']\n",
    "urls = [\n",
    "    \"https://udb.moe.edu.tw/download/udata/static_file/%E5%AD%B81-1.%E6%AD%A3%E5%BC%8F%E5%AD%B8%E7%B1%8D%E5%9C%A8%E5%AD%B8%E5%AD%B8%E7%94%9F%E4%BA%BA%E6%95%B8-%E4%BB%A5%E3%80%8C%E7%B3%BB(%E6%89%80)%E3%80%8D%E7%B5%B1%E8%A8%88.csv\",\n",
    "    \"https://udb.moe.edu.tw/download/udata/static_file/%E5%AD%B84.%E6%97%A5%E9%96%93%E5%AD%B8%E5%A3%AB%E7%8F%AD%E4%BB%A5%E4%B8%8B%E7%94%B3%E8%AB%8B%E5%BB%B6%E9%95%B7%E4%BF%AE%E6%A5%AD%E5%B9%B4%E9%99%90%E4%B9%8B%E5%BB%B6%E4%BF%AE%E7%94%9F%E6%95%B8-%E4%BB%A5%E3%80%8C%E7%B3%BB(%E6%89%80)%E3%80%8D%E7%B5%B1%E8%A8%88.csv\",\n",
    "    \"https://udb.moe.edu.tw/download/udata/static_file/%E5%AD%B813-1.%E6%96%BC%E5%AD%B8%E5%B9%B4%E5%BA%95%E8%99%95%E6%96%BC%E4%BC%91%E5%AD%B8%E7%8B%80%E6%85%8B%E4%B9%8B%E4%BA%BA%E6%95%B8-%E4%BB%A5%E3%80%8C%E7%B3%BB(%E6%89%80)%E3%80%8D%E7%B5%B1%E8%A8%88(110%E5%AD%B8%E5%B9%B4%E5%BA%A6%E4%BB%A5%E5%89%8D).csv\",\n",
    "    \"https://udb.moe.edu.tw/download/udata/static_file/%E5%AD%B814-1.%E9%80%80%E5%AD%B8%E4%BA%BA%E6%95%B8-%E4%BB%A5%E3%80%8C%E7%B3%BB(%E6%89%80)%E3%80%8D%E7%B5%B1%E8%A8%88(110%E5%AD%B8%E5%B9%B4%E5%BA%A6%E4%BB%A5%E5%89%8D).csv\"\n",
    "]\n",
    "\n",
    "# download data\n",
    "datum = {}\n",
    "for url, category in zip(urls, categories):\n",
    "    data = pd.read_csv(url, low_memory=False)\n",
    "    data = remove_unused_labels(data)\n",
    "    data = rename_columns(data)\n",
    "    data.replace('...', 0, inplace=True)\n",
    "    datum[category] = data\n",
    "\n",
    "# split data by year\n",
    "for year in range(106, 111):  # 106 ~ 110\n",
    "    merged_data = pd.DataFrame()\n",
    "    for category in categories:\n",
    "        data = datum[category]\n",
    "        data = data[data[\"學年度\"] == year]\n",
    "        data = data.drop([\"學年度\"], axis=1)\n",
    "        data = data.astype({col: int for col in data.columns[1:]})  # convert to int, ignore the first column\n",
    "        data = data.groupby(\"學校名稱\").sum().reset_index()\n",
    "        merged_data = pd.concat([merged_data, data], ignore_index=True, join=\"outer\")\n",
    "    merged_data.fillna(0, inplace=True)\n",
    "    merged_data = merged_data.astype({col: int for col in merged_data.columns[1:]})\n",
    "    merged_data = merged_data.groupby(\"學校名稱\").sum().reset_index()\n",
    "    merged_data.to_csv(f'./data/{year}.csv', index=False)"
   ],
   "id": "5fb67e24089df768",
   "outputs": [],
   "execution_count": 3
  },
  {
   "metadata": {
    "ExecuteTime": {
     "end_time": "2024-06-19T18:14:37.045240Z",
     "start_time": "2024-06-19T18:14:36.955561Z"
    }
   },
   "cell_type": "code",
   "source": [
    "# 2. THE ranking (泰晤士學校排名)\n",
    "name_converter = {\n",
    "    \"National Taiwan University (NTU)\": \"國立臺灣大學\",\n",
    "    \"National Tsing Hua University\": \"國立清華大學\",\n",
    "    \"National Chiao Tung University\": \"國立陽明交通大學\",\n",
    "    \"National Taiwan University of Science and Technology (Taiwan Tech)\": \"國立臺灣科技大學\",\n",
    "    \"Taipei Medical University\": \"臺北醫學大學\",\n",
    "    \"National Cheng Kung University (NCKU)\": \"國立成功大學\",\n",
    "    \"China Medical University, Taiwan\": \"中國醫藥大學\",\n",
    "    \"National Taiwan Normal University\": \"國立臺灣師範大學\",\n",
    "    \"Chang Gung University\": \"長庚大學\",\n",
    "    \"Kaohsiung Medical University\": \"高雄醫學大學\",\n",
    "    \"National Central University\": \"國立中央大學\",\n",
    "    \"National Chengchi University\": \"國立政治大學\",\n",
    "    \"National Sun Yat-Sen University\": \"國立中山大學\",\n",
    "    \"National Yang-Ming University\": \"國立陽明大學\",\n",
    "    \"Asia University, Taiwan\": \"亞洲大學\",\n",
    "    \"Chung Yuan Christian University\": \"中原大學\",\n",
    "    \"Feng Chia University\": \"逢甲大學\",\n",
    "    \"Fu Jen Catholic University\": \"輔仁大學\",\n",
    "    \"I-Shou University\": \"義守大學\",\n",
    "    \"National Chung Cheng University\": \"國立中正大學\",\n",
    "    \"National Chung Hsing University\": \"國立中興大學\",\n",
    "    \"National Dong Hwa University\": \"國立東華大學\",\n",
    "    \"National Taipei University\": \"國立臺北大學\",\n",
    "    \"National Taipei University of Technology\": \"國立臺北科技大學\",\n",
    "    \"National Taiwan Ocean University\": \"國立臺灣海洋大學\",\n",
    "    \"Yuan Ze University\": \"元智大學\",\n",
    "    \"National University of Tainan\": \"國立臺南大學\",\n",
    "}\n",
    "\n",
    "for year in range(106, 111):  # 106 ~ 110\n",
    "    data = pd.read_csv(f'./data/{year + 1911}_rankings.csv')\n",
    "    data[\"rank\"] = data[\"rank\"].str.replace(r\"=\", \"\")  # remove \"=\" in renk column\n",
    "    data = data[~data[\"rank\"].str.contains(r\"\\+\")]  # filter out all \"rank\" with \"+\"\n",
    "    data = data[data[\"location\"] == \"Taiwan\"]\n",
    "    data = data[[\"rank\", \"name\", \"scores_overall\"]]\n",
    "    data[\"rank\"] = data[\"rank\"].apply(convert_to_average_rank)\n",
    "    data[\"name\"] = data[\"name\"].map(name_converter)  # convert name to Chinese\n",
    "    data.to_csv(f'./data/{year}_taiwan_ranking.csv', index=False)"
   ],
   "id": "c71cb0b04126f473",
   "outputs": [],
   "execution_count": 36
  }
 ],
 "metadata": {
  "kernelspec": {
   "display_name": "Python 3",
   "language": "python",
   "name": "python3"
  },
  "language_info": {
   "codemirror_mode": {
    "name": "ipython",
    "version": 2
   },
   "file_extension": ".py",
   "mimetype": "text/x-python",
   "name": "python",
   "nbconvert_exporter": "python",
   "pygments_lexer": "ipython2",
   "version": "2.7.6"
  }
 },
 "nbformat": 4,
 "nbformat_minor": 5
}
