{
 "cells": [
  {
   "cell_type": "markdown",
   "metadata": {},
   "source": [
    "# txt (print 在 console 會是正的的)\n"
   ]
  },
  {
   "cell_type": "code",
   "execution_count": 9,
   "metadata": {},
   "outputs": [],
   "source": [
    "import os\n",
    "if not os.path.exists('./output/txt_out'):\n",
    "    os.makedirs('./output/txt_out')"
   ]
  },
  {
   "cell_type": "code",
   "execution_count": 10,
   "metadata": {},
   "outputs": [
    {
     "name": "stdout",
     "output_type": "stream",
     "text": [
      "===========106_simplified.csv===========\n",
      "+------------------+---------+--------+--------+--------+\n",
      "|     學校名稱     |  排名   | 延修率 | 休學率 | 退學率 |\n",
      "+------------------+---------+--------+--------+--------+\n",
      "|     中原大學     | 601-800 | 0.0408 | 0.0812 | 0.0483 |\n",
      "+------------------+---------+--------+--------+--------+\n",
      "|   中國醫藥大學   | 501-600 | 0.0149 | 0.0674 | 0.0441 |\n",
      "+------------------+---------+--------+--------+--------+\n",
      "|     亞洲大學     | 601-800 | 0.0326 | 0.0546 | 0.0908 |\n",
      "+------------------+---------+--------+--------+--------+\n",
      "|     元智大學     | 601-800 | 0.0358 | 0.044  | 0.0502 |\n",
      "+------------------+---------+--------+--------+--------+\n",
      "|   國立中央大學   | 601-800 | 0.0194 | 0.0787 | 0.0454 |\n",
      "+------------------+---------+--------+--------+--------+\n",
      "|   國立中山大學   | 601-800 | 0.0261 | 0.1018 | 0.0563 |\n",
      "+------------------+---------+--------+--------+--------+\n",
      "|   國立中正大學   | 601-800 | 0.0229 | 0.0929 | 0.049  |\n",
      "+------------------+---------+--------+--------+--------+\n",
      "|   國立中興大學   | 601-800 | 0.0218 | 0.0936 | 0.0548 |\n",
      "+------------------+---------+--------+--------+--------+\n",
      "|   國立成功大學   | 401-500 | 0.0266 | 0.0871 | 0.0488 |\n",
      "+------------------+---------+--------+--------+--------+\n",
      "|   國立政治大學   |  801+   | 0.0457 | 0.1305 | 0.0348 |\n",
      "+------------------+---------+--------+--------+--------+\n",
      "|   國立清華大學   | 251-300 | 0.0255 | 0.0795 | 0.0367 |\n",
      "+------------------+---------+--------+--------+--------+\n",
      "| 國立臺北科技大學 |  801+   | 0.0029 | 0.072  | 0.0456 |\n",
      "+------------------+---------+--------+--------+--------+\n",
      "|   國立臺灣大學   |   195   | 0.038  | 0.1121 | 0.0402 |\n",
      "+------------------+---------+--------+--------+--------+\n",
      "| 國立臺灣師範大學 | 501-600 | 0.0333 | 0.1348 | 0.0474 |\n",
      "+------------------+---------+--------+--------+--------+\n",
      "| 國立臺灣海洋大學 | 601-800 | 0.0242 | 0.0704 | 0.052  |\n",
      "+------------------+---------+--------+--------+--------+\n",
      "| 國立臺灣科技大學 | 401-500 | 0.0246 | 0.0721 | 0.039  |\n",
      "+------------------+---------+--------+--------+--------+\n",
      "| 國立陽明交通大學 | 401-500 | 0.0138 | 0.0928 | 0.0437 |\n",
      "+------------------+---------+--------+--------+--------+\n",
      "|   國立陽明大學   | 501-600 | 0.0074 | 0.1309 | 0.0496 |\n",
      "+------------------+---------+--------+--------+--------+\n",
      "|     義守大學     |  801+   | 0.0363 | 0.0512 | 0.0774 |\n",
      "+------------------+---------+--------+--------+--------+\n",
      "|   臺北醫學大學   | 601-800 | 0.0214 | 0.0852 | 0.0393 |\n",
      "+------------------+---------+--------+--------+--------+\n",
      "|     輔仁大學     |  801+   | 0.0357 | 0.0716 | 0.0652 |\n",
      "+------------------+---------+--------+--------+--------+\n",
      "|     逢甲大學     | 601-800 | 0.0255 | 0.0472 | 0.0567 |\n",
      "+------------------+---------+--------+--------+--------+\n",
      "|     長庚大學     | 601-800 | 0.0288 | 0.0693 | 0.0557 |\n",
      "+------------------+---------+--------+--------+--------+\n",
      "|   高雄醫學大學   | 601-800 | 0.0154 | 0.0735 | 0.0333 |\n",
      "+------------------+---------+--------+--------+--------+\n",
      "\n",
      "===========107_simplified.csv===========\n",
      "+------------------+-----------+--------+--------+--------+\n",
      "|     學校名稱     |   排名    | 延修率 | 休學率 | 退學率 |\n",
      "+------------------+-----------+--------+--------+--------+\n",
      "|     中原大學     | 801–1000 | 0.0464 | 0.0535 | 0.0812 |\n",
      "+------------------+-----------+--------+--------+--------+\n",
      "|   中國醫藥大學   | 501–600  | 0.0185 | 0.0741 | 0.0399 |\n",
      "+------------------+-----------+--------+--------+--------+\n",
      "|     亞洲大學     | 801–1000 | 0.0284 | 0.0436 | 0.0692 |\n",
      "+------------------+-----------+--------+--------+--------+\n",
      "|     元智大學     | 801–1000 | 0.0375 | 0.0448 | 0.0491 |\n",
      "+------------------+-----------+--------+--------+--------+\n",
      "|   國立中央大學   | 601–800  | 0.0181 | 0.0776 | 0.0454 |\n",
      "+------------------+-----------+--------+--------+--------+\n",
      "|   國立中山大學   | 601–800  | 0.0278 | 0.1065 | 0.0537 |\n",
      "+------------------+-----------+--------+--------+--------+\n",
      "|   國立中正大學   | 801–1000 | 0.022  |  0.09  | 0.0523 |\n",
      "+------------------+-----------+--------+--------+--------+\n",
      "|   國立成功大學   | 501–600  | 0.0241 | 0.0862 | 0.0498 |\n",
      "+------------------+-----------+--------+--------+--------+\n",
      "|   國立政治大學   | 601–800  | 0.0483 | 0.1391 | 0.0346 |\n",
      "+------------------+-----------+--------+--------+--------+\n",
      "|   國立東華大學   | 801–1000 | 0.043  | 0.1258 | 0.0627 |\n",
      "+------------------+-----------+--------+--------+--------+\n",
      "|   國立清華大學   | 301–350  | 0.0271 | 0.0832 | 0.038  |\n",
      "+------------------+-----------+--------+--------+--------+\n",
      "|   國立臺北大學   | 801–1000 | 0.0259 | 0.0797 | 0.0413 |\n",
      "+------------------+-----------+--------+--------+--------+\n",
      "| 國立臺北科技大學 | 801–1000 | 0.0038 | 0.0648 | 0.0468 |\n",
      "+------------------+-----------+--------+--------+--------+\n",
      "|   國立臺南大學   | 801–1000 | 0.0246 | 0.0998 | 0.061  |\n",
      "+------------------+-----------+--------+--------+--------+\n",
      "|   國立臺灣大學   |    198    | 0.0381 | 0.1145 | 0.041  |\n",
      "+------------------+-----------+--------+--------+--------+\n",
      "| 國立臺灣師範大學 | 501–600  | 0.0328 | 0.136  | 0.0524 |\n",
      "+------------------+-----------+--------+--------+--------+\n",
      "| 國立臺灣海洋大學 | 801–1000 | 0.026  | 0.0712 | 0.057  |\n",
      "+------------------+-----------+--------+--------+--------+\n",
      "| 國立臺灣科技大學 | 401–500  | 0.0243 | 0.075  | 0.0381 |\n",
      "+------------------+-----------+--------+--------+--------+\n",
      "| 國立陽明交通大學 | 401–500  | 0.0146 | 0.0912 | 0.0451 |\n",
      "+------------------+-----------+--------+--------+--------+\n",
      "|   國立陽明大學   | 601–800  | 0.0074 | 0.1317 | 0.0515 |\n",
      "+------------------+-----------+--------+--------+--------+\n",
      "|     義守大學     | 801–1000 | 0.0402 | 0.0309 | 0.0846 |\n",
      "+------------------+-----------+--------+--------+--------+\n",
      "|   臺北醫學大學   | 601–800  | 0.0225 | 0.0893 | 0.0479 |\n",
      "+------------------+-----------+--------+--------+--------+\n",
      "|     輔仁大學     | 801–1000 | 0.0339 | 0.0773 | 0.0696 |\n",
      "+------------------+-----------+--------+--------+--------+\n",
      "|     逢甲大學     | 801–1000 | 0.0255 | 0.0485 | 0.0457 |\n",
      "+------------------+-----------+--------+--------+--------+\n",
      "|     長庚大學     | 601–800  | 0.0279 | 0.0756 | 0.0457 |\n",
      "+------------------+-----------+--------+--------+--------+\n",
      "|   高雄醫學大學   | 601–800  | 0.0162 | 0.0719 | 0.0581 |\n",
      "+------------------+-----------+--------+--------+--------+\n",
      "\n",
      "===========108_simplified.csv===========\n",
      "+------------------+-----------+--------+--------+--------+\n",
      "|     學校名稱     |   排名    | 延修率 | 休學率 | 退學率 |\n",
      "+------------------+-----------+--------+--------+--------+\n",
      "|     中原大學     | 801–1000 | 0.0524 | 0.0479 | 0.0466 |\n",
      "+------------------+-----------+--------+--------+--------+\n",
      "|   中國醫藥大學   | 501–600  | 0.0165 | 0.0749 | 0.0441 |\n",
      "+------------------+-----------+--------+--------+--------+\n",
      "|     亞洲大學     | 801–1000 | 0.0272 | 0.0469 | 0.0723 |\n",
      "+------------------+-----------+--------+--------+--------+\n",
      "|     元智大學     |   1001+   | 0.0395 | 0.0462 | 0.0484 |\n",
      "+------------------+-----------+--------+--------+--------+\n",
      "|   國立中央大學   | 801–1000 | 0.0179 | 0.0863 | 0.0454 |\n",
      "+------------------+-----------+--------+--------+--------+\n",
      "|   國立中山大學   | 601–800  | 0.0278 | 0.1051 | 0.0583 |\n",
      "+------------------+-----------+--------+--------+--------+\n",
      "|   國立中正大學   |   1001+   | 0.0211 | 0.0969 | 0.0552 |\n",
      "+------------------+-----------+--------+--------+--------+\n",
      "|   國立中興大學   | 801–1000 | 0.0219 | 0.093  | 0.0563 |\n",
      "+------------------+-----------+--------+--------+--------+\n",
      "|   國立成功大學   | 501–600  | 0.0246 |  0.09  | 0.0495 |\n",
      "+------------------+-----------+--------+--------+--------+\n",
      "|   國立政治大學   | 801–1000 | 0.0469 | 0.1379 | 0.0384 |\n",
      "+------------------+-----------+--------+--------+--------+\n",
      "|   國立東華大學   | 801–1000 | 0.0426 | 0.124  | 0.0603 |\n",
      "+------------------+-----------+--------+--------+--------+\n",
      "|   國立清華大學   | 401–500  | 0.0251 | 0.0893 | 0.0422 |\n",
      "+------------------+-----------+--------+--------+--------+\n",
      "|   國立臺北大學   | 801–1000 | 0.027  | 0.0798 | 0.0479 |\n",
      "+------------------+-----------+--------+--------+--------+\n",
      "| 國立臺北科技大學 | 801–1000 | 0.0036 | 0.0604 | 0.0446 |\n",
      "+------------------+-----------+--------+--------+--------+\n",
      "|   國立臺灣大學   |    170    | 0.0401 | 0.1139 | 0.0414 |\n",
      "+------------------+-----------+--------+--------+--------+\n",
      "| 國立臺灣師範大學 | 601–800  | 0.0339 | 0.1443 | 0.0456 |\n",
      "+------------------+-----------+--------+--------+--------+\n",
      "| 國立臺灣海洋大學 | 801–1000 | 0.029  | 0.0735 | 0.0541 |\n",
      "+------------------+-----------+--------+--------+--------+\n",
      "| 國立臺灣科技大學 | 401–500  | 0.0243 | 0.0783 | 0.0392 |\n",
      "+------------------+-----------+--------+--------+--------+\n",
      "| 國立陽明交通大學 | 501–600  | 0.0145 | 0.0906 | 0.0451 |\n",
      "+------------------+-----------+--------+--------+--------+\n",
      "|   國立陽明大學   | 501–600  | 0.0083 | 0.1365 | 0.0503 |\n",
      "+------------------+-----------+--------+--------+--------+\n",
      "|     義守大學     |   1001+   |  0.04  | 0.0314 | 0.0944 |\n",
      "+------------------+-----------+--------+--------+--------+\n",
      "|   臺北醫學大學   | 501–600  | 0.0247 | 0.0812 | 0.0565 |\n",
      "+------------------+-----------+--------+--------+--------+\n",
      "|     輔仁大學     | 801–1000 | 0.0327 | 0.0775 | 0.0693 |\n",
      "+------------------+-----------+--------+--------+--------+\n",
      "|     逢甲大學     |   1001+   | 0.0257 | 0.0481 | 0.0447 |\n",
      "+------------------+-----------+--------+--------+--------+\n",
      "|     長庚大學     | 601–800  | 0.0275 | 0.0776 | 0.0565 |\n",
      "+------------------+-----------+--------+--------+--------+\n",
      "|   高雄醫學大學   | 801–1000 | 0.0196 | 0.0803 | 0.0533 |\n",
      "+------------------+-----------+--------+--------+--------+\n",
      "\n",
      "===========109_simplified.csv===========\n",
      "+------------------+-----------+--------+--------+--------+\n",
      "|     學校名稱     |   排名    | 延修率 | 休學率 | 退學率 |\n",
      "+------------------+-----------+--------+--------+--------+\n",
      "|     中原大學     |   1001+   | 0.0533 | 0.0574 | 0.0392 |\n",
      "+------------------+-----------+--------+--------+--------+\n",
      "|   中國醫藥大學   | 501–600  | 0.0183 | 0.069  | 0.0482 |\n",
      "+------------------+-----------+--------+--------+--------+\n",
      "|     亞洲大學     | 801–1000 | 0.0243 | 0.0515 | 0.0707 |\n",
      "+------------------+-----------+--------+--------+--------+\n",
      "|     元智大學     |   1001+   | 0.0495 | 0.0437 | 0.051  |\n",
      "+------------------+-----------+--------+--------+--------+\n",
      "|   國立中央大學   | 801–1000 | 0.0189 | 0.0765 | 0.0436 |\n",
      "+------------------+-----------+--------+--------+--------+\n",
      "|   國立中山大學   | 801–1000 | 0.0295 | 0.0923 | 0.0611 |\n",
      "+------------------+-----------+--------+--------+--------+\n",
      "|   國立中正大學   |   1001+   | 0.017  | 0.0942 | 0.0575 |\n",
      "+------------------+-----------+--------+--------+--------+\n",
      "|   國立中興大學   |   1001+   | 0.0206 | 0.0905 | 0.0594 |\n",
      "+------------------+-----------+--------+--------+--------+\n",
      "|   國立成功大學   | 601–800  | 0.0258 | 0.0868 | 0.0489 |\n",
      "+------------------+-----------+--------+--------+--------+\n",
      "|   國立政治大學   | 801–1000 | 0.0449 | 0.1351 | 0.0352 |\n",
      "+------------------+-----------+--------+--------+--------+\n",
      "|   國立東華大學   | 801–1000 | 0.0442 | 0.1152 | 0.0588 |\n",
      "+------------------+-----------+--------+--------+--------+\n",
      "|   國立清華大學   | 351–400  | 0.0257 | 0.0725 | 0.039  |\n",
      "+------------------+-----------+--------+--------+--------+\n",
      "|   國立臺北大學   |   1001+   | 0.0225 | 0.0794 | 0.0489 |\n",
      "+------------------+-----------+--------+--------+--------+\n",
      "| 國立臺北科技大學 | 801–1000 | 0.0176 | 0.0551 | 0.0432 |\n",
      "+------------------+-----------+--------+--------+--------+\n",
      "|   國立臺灣大學   |    120    | 0.0394 | 0.1041 |  0.04  |\n",
      "+------------------+-----------+--------+--------+--------+\n",
      "| 國立臺灣師範大學 | 601–800  | 0.0342 | 0.1335 | 0.051  |\n",
      "+------------------+-----------+--------+--------+--------+\n",
      "| 國立臺灣海洋大學 |   1001+   | 0.0286 | 0.0682 | 0.0573 |\n",
      "+------------------+-----------+--------+--------+--------+\n",
      "| 國立臺灣科技大學 | 501–600  | 0.0253 | 0.0697 | 0.0409 |\n",
      "+------------------+-----------+--------+--------+--------+\n",
      "| 國立陽明交通大學 | 501–600  | 0.0158 | 0.1179 | 0.0566 |\n",
      "+------------------+-----------+--------+--------+--------+\n",
      "|   國立陽明大學   | 501–600  | 0.006  |  0.0   |  0.0   |\n",
      "+------------------+-----------+--------+--------+--------+\n",
      "|     義守大學     |   1001+   | 0.0429 | 0.0305 | 0.0858 |\n",
      "+------------------+-----------+--------+--------+--------+\n",
      "|   臺北醫學大學   | 351–400  | 0.0229 | 0.0848 | 0.0451 |\n",
      "+------------------+-----------+--------+--------+--------+\n",
      "|     輔仁大學     | 801–1000 | 0.0334 | 0.0737 | 0.0644 |\n",
      "+------------------+-----------+--------+--------+--------+\n",
      "|     逢甲大學     |   1001+   | 0.0317 | 0.0436 | 0.0452 |\n",
      "+------------------+-----------+--------+--------+--------+\n",
      "|     長庚大學     | 801–1000 | 0.0239 | 0.0718 | 0.0643 |\n",
      "+------------------+-----------+--------+--------+--------+\n",
      "|   高雄醫學大學   | 801–1000 | 0.018  | 0.0803 | 0.0399 |\n",
      "+------------------+-----------+--------+--------+--------+\n",
      "\n",
      "===========110_simplified.csv===========\n",
      "+------------------+-----------+--------+--------+--------+\n",
      "|     學校名稱     |   排名    | 延修率 | 休學率 | 退學率 |\n",
      "+------------------+-----------+--------+--------+--------+\n",
      "|     中原大學     |   1001+   | 0.048  | 0.0554 | 0.0465 |\n",
      "+------------------+-----------+--------+--------+--------+\n",
      "|   中國醫藥大學   | 401–500  | 0.0164 | 0.0642 | 0.0456 |\n",
      "+------------------+-----------+--------+--------+--------+\n",
      "|     亞洲大學     | 801–1000 | 0.0283 | 0.0474 | 0.0802 |\n",
      "+------------------+-----------+--------+--------+--------+\n",
      "|     元智大學     |   1001+   | 0.0385 | 0.0485 | 0.0452 |\n",
      "+------------------+-----------+--------+--------+--------+\n",
      "|   國立中央大學   | 801–1000 | 0.0175 | 0.076  | 0.0496 |\n",
      "+------------------+-----------+--------+--------+--------+\n",
      "|   國立中山大學   | 801–1000 | 0.0258 | 0.0868 | 0.0552 |\n",
      "+------------------+-----------+--------+--------+--------+\n",
      "|   國立中正大學   |   1001+   | 0.0196 | 0.0879 | 0.0515 |\n",
      "+------------------+-----------+--------+--------+--------+\n",
      "|   國立中興大學   |   1001+   |  0.02  | 0.0826 | 0.0615 |\n",
      "+------------------+-----------+--------+--------+--------+\n",
      "|   國立成功大學   | 501–600  | 0.0269 | 0.0762 | 0.0544 |\n",
      "+------------------+-----------+--------+--------+--------+\n",
      "|   國立政治大學   | 801–1000 | 0.0442 | 0.1364 |  0.04  |\n",
      "+------------------+-----------+--------+--------+--------+\n",
      "|   國立東華大學   | 801–1000 | 0.0445 |  0.11  | 0.0538 |\n",
      "+------------------+-----------+--------+--------+--------+\n",
      "|   國立清華大學   | 351–400  | 0.0266 | 0.0785 | 0.0408 |\n",
      "+------------------+-----------+--------+--------+--------+\n",
      "|   國立臺北大學   |   1001+   | 0.026  | 0.0713 | 0.0528 |\n",
      "+------------------+-----------+--------+--------+--------+\n",
      "| 國立臺北科技大學 | 801–1000 | 0.0186 | 0.0564 | 0.0426 |\n",
      "+------------------+-----------+--------+--------+--------+\n",
      "|   國立臺灣大學   |    97     | 0.0391 | 0.0995 | 0.0439 |\n",
      "+------------------+-----------+--------+--------+--------+\n",
      "| 國立臺灣師範大學 | 601–800  | 0.0343 | 0.1259 | 0.0532 |\n",
      "+------------------+-----------+--------+--------+--------+\n",
      "| 國立臺灣海洋大學 |   1001+   | 0.0333 | 0.0658 | 0.0564 |\n",
      "+------------------+-----------+--------+--------+--------+\n",
      "| 國立臺灣科技大學 | 501–600  | 0.0224 | 0.0683 | 0.0431 |\n",
      "+------------------+-----------+--------+--------+--------+\n",
      "| 國立陽明交通大學 | 501–600  | 0.0153 | 0.0818 | 0.0483 |\n",
      "+------------------+-----------+--------+--------+--------+\n",
      "|     義守大學     |   1001+   | 0.043  | 0.0285 | 0.0773 |\n",
      "+------------------+-----------+--------+--------+--------+\n",
      "|   臺北醫學大學   | 301–350  | 0.0199 | 0.0767 | 0.0486 |\n",
      "+------------------+-----------+--------+--------+--------+\n",
      "|     輔仁大學     | 801–1000 | 0.0299 | 0.0634 | 0.0567 |\n",
      "+------------------+-----------+--------+--------+--------+\n",
      "|     逢甲大學     |   1001+   | 0.0306 | 0.0439 | 0.0436 |\n",
      "+------------------+-----------+--------+--------+--------+\n",
      "|     長庚大學     | 801–1000 | 0.025  | 0.0625 | 0.0567 |\n",
      "+------------------+-----------+--------+--------+--------+\n",
      "|   高雄醫學大學   | 801–1000 | 0.013  | 0.072  | 0.057  |\n",
      "+------------------+-----------+--------+--------+--------+\n",
      "\n"
     ]
    }
   ],
   "source": [
    "import os\n",
    "import pandas as pd\n",
    "\n",
    "\n",
    "def len_with_chinese(s):\n",
    "    l = 0\n",
    "    for c in s:\n",
    "        l += 2 if ord(c) > 127 else 1\n",
    "    return l\n",
    "\n",
    "\n",
    "def series_max_len(series, withColumn=True):\n",
    "    max_value = None\n",
    "    max_len = 0\n",
    "    for value in series.values:\n",
    "        if max_value is None or len_with_chinese(value) > max_len:\n",
    "            max_value = value\n",
    "            max_len = len_with_chinese(value)\n",
    "    if withColumn:\n",
    "        if len_with_chinese(series.name) > max_len:\n",
    "            max_value = series.name\n",
    "\n",
    "    return max_value\n",
    "\n",
    "\n",
    "def make_txt_tabl(df):\n",
    "    each_column_max_len = []\n",
    "    for column in df.columns:\n",
    "        max_len_item = series_max_len(df[column])\n",
    "        each_column_max_len.append(len_with_chinese(max_len_item))\n",
    "\n",
    "    # border\n",
    "    border = \"\"\n",
    "    for v in each_column_max_len:\n",
    "        border += \"+\"\n",
    "        border += \"-\"*(v+2)\n",
    "    border += \"+\\n\"\n",
    "\n",
    "    # column\n",
    "    data = border\n",
    "    for index, column in enumerate(df.columns):\n",
    "        column_len = len_with_chinese(column)\n",
    "        space_left = (each_column_max_len[index]+2-column_len)//2\n",
    "        space_right = each_column_max_len[index]+2-column_len-space_left\n",
    "        data += (\"|\"+space_left*\" \"+column+space_right*\" \")\n",
    "    data += \"|\\n\"\n",
    "\n",
    "    # data\n",
    "    h, w = df.shape\n",
    "    for y in range(h):\n",
    "        data += border\n",
    "        for x in range(w):\n",
    "            element = df.iloc[y, x]\n",
    "            element_len = len_with_chinese(element)\n",
    "            space_left = (each_column_max_len[x]+2-element_len)//2\n",
    "            space_right = each_column_max_len[x]+2-element_len-space_left\n",
    "            data += (\"|\"+space_left*\" \"+element+space_right*\" \")\n",
    "        data += \"|\\n\"\n",
    "    data += border\n",
    "\n",
    "    return data\n",
    "\n",
    "\n",
    "# main\n",
    "files = [\"106_simplified.csv\", \"107_simplified.csv\",\n",
    "         \"108_simplified.csv\", \"109_simplified.csv\", \"110_simplified.csv\"]\n",
    "\n",
    "for file in files:\n",
    "    path = os.path.join(\"data\", file)\n",
    "    df = pd.read_csv(path)\n",
    "    df[\"延修率\"] = df[\"延修率\"].round(4).astype(str)\n",
    "    df[\"休學率\"] = df[\"休學率\"].round(4).astype(str)\n",
    "    df[\"退學率\"] = df[\"退學率\"].round(4).astype(str)\n",
    "    df[\"排名\"] = df[\"排名\"].astype(str)\n",
    "\n",
    "    print(file.center(40, \"=\"))\n",
    "    table = make_txt_tabl(df)\n",
    "    print(table)\n",
    "\n",
    "    # write to txt\n",
    "    with open(f\"./output/txt_out/{file}.txt\", \"w+\", encoding=\"utf8\") as f:\n",
    "        f.write(table)"
   ]
  },
  {
   "cell_type": "markdown",
   "metadata": {},
   "source": [
    "# html\n"
   ]
  },
  {
   "cell_type": "code",
   "execution_count": 11,
   "metadata": {},
   "outputs": [],
   "source": [
    "import os\n",
    "if not os.path.exists('./output/html_out'):\n",
    "    os.makedirs('./output/html_out')"
   ]
  },
  {
   "cell_type": "code",
   "execution_count": 12,
   "metadata": {},
   "outputs": [],
   "source": [
    "import pandas as pd\n",
    "import os\n",
    "\n",
    "\n",
    "def make_html(df):\n",
    "    # add table\n",
    "    dom = \"\"\n",
    "    dom += \"<table border=1>\"\n",
    "\n",
    "    # add column title\n",
    "    dom += \"<tr>\"\n",
    "    for column in df.columns:\n",
    "        dom += f\"<th>{column}</th>\"\n",
    "    dom += \"</tr>\"\n",
    "\n",
    "    # add data\n",
    "\n",
    "    h, w = df.shape\n",
    "\n",
    "    for y in range(h):\n",
    "        dom += \"<tr>\"\n",
    "        for x in range(w):\n",
    "            dom += f\"<td>{df.iloc[y,x]}</td>\"\n",
    "        dom += \"<tr>\"\n",
    "\n",
    "    # end table\n",
    "    dom += \"</table>\"\n",
    "\n",
    "    return dom\n",
    "\n",
    "\n",
    "# main\n",
    "files = [\"106_simplified.csv\", \"107_simplified.csv\",\n",
    "         \"108_simplified.csv\", \"109_simplified.csv\", \"110_simplified.csv\"]\n",
    "\n",
    "for file in files:\n",
    "    path = os.path.join(\"data\", file)\n",
    "    df = pd.read_csv(path)\n",
    "    df[\"延修率\"] = df[\"延修率\"].round(4).astype(str)\n",
    "    df[\"休學率\"] = df[\"休學率\"].round(4).astype(str)\n",
    "    df[\"退學率\"] = df[\"退學率\"].round(4).astype(str)\n",
    "    df[\"排名\"] = df[\"排名\"].astype(str)\n",
    "\n",
    "    dom = make_html(df)\n",
    "\n",
    "    # write to html\n",
    "    with open(f\"./output/html_out/{file}.html\", \"w+\", encoding=\"utf8\") as f:\n",
    "        f.write(dom)"
   ]
  },
  {
   "cell_type": "markdown",
   "metadata": {},
   "source": [
    "# matplotlib\n"
   ]
  },
  {
   "cell_type": "markdown",
   "metadata": {},
   "source": [
    "# 有排名和沒排名學校延修率,休學率,退學率比較\n"
   ]
  },
  {
   "cell_type": "code",
   "execution_count": 13,
   "metadata": {},
   "outputs": [
    {
     "name": "stdout",
     "output_type": "stream",
     "text": [
      "   年分  有排名學校延修率  有排名學校休學率  有排名學校退學率  無排名學校延修率  無排名學校休學率  無排名學校退學率\n",
      "0   0  0.025807  0.083108  0.050180  0.031506  0.081012  0.085520\n",
      "1   0  0.027108  0.083915  0.052362  0.031421  0.078944  0.083910\n",
      "2   0  0.027469  0.085075  0.052305  0.032868  0.082757  0.093325\n",
      "3   0  0.028239  0.076815  0.049808  0.033935  0.080944  0.091229\n",
      "4   0  0.028266  0.074647  0.052175  0.033714  0.081844  0.095740\n"
     ]
    }
   ],
   "source": [
    "import pandas as pd\n",
    "import numpy as np\n",
    "\n",
    "df = pd.DataFrame(columns=[\"年分\", \"有排名學校延修率\", \"有排名學校休學率\",\n",
    "                  \"有排名學校退學率\", \"無排名學校延修率\", \"無排名學校休學率\", \"無排名學校退學率\"])\n",
    "\n",
    "for year in range(106, 111):\n",
    "\n",
    "    #  taiwan schools that year\n",
    "    taiwan_school = pd.read_csv(f\"./data/{year}.csv\")\n",
    "\n",
    "    d = {column: 0 for column in df.columns}\n",
    "    d[\"年份\"] = year\n",
    "    ranking_count = 0\n",
    "    no_ranking_count = 0\n",
    "\n",
    "    h, w = taiwan_school.shape\n",
    "\n",
    "    for y in range(h):\n",
    "        total_student = taiwan_school.iloc[y, 1]\n",
    "        if total_student <= 0:\n",
    "            continue\n",
    "        school_name = taiwan_school.iloc[y, 0]\n",
    "        delay_total_student = taiwan_school.iloc[y, 4]\n",
    "        suspension_total_student = taiwan_school.iloc[y, 13]\n",
    "        quit_total_student = taiwan_school.iloc[y, 29]\n",
    "        if pd.isna(taiwan_school.iloc[y,43]):\n",
    "            no_ranking_count += 1\n",
    "            d[\"無排名學校延修率\"] += (delay_total_student/total_student)\n",
    "            d[\"無排名學校休學率\"] += (suspension_total_student/total_student)\n",
    "            d[\"無排名學校退學率\"] += (quit_total_student/total_student)\n",
    "        else:\n",
    "            ranking_count += 1\n",
    "            d[\"有排名學校延修率\"] += (delay_total_student/total_student)\n",
    "            d[\"有排名學校休學率\"] += (suspension_total_student/total_student)\n",
    "            d[\"有排名學校退學率\"] += (quit_total_student/total_student)\n",
    "\n",
    "    d[\"有排名學校延修率\"] /= ranking_count\n",
    "    d[\"有排名學校休學率\"] /= ranking_count\n",
    "    d[\"有排名學校退學率\"] /= ranking_count\n",
    "    d[\"無排名學校延修率\"] /= no_ranking_count\n",
    "    d[\"無排名學校休學率\"] /= no_ranking_count\n",
    "    d[\"無排名學校退學率\"] /= no_ranking_count\n",
    "\n",
    "    df.loc[len(df)] = d\n",
    "print(df)"
   ]
  },
  {
   "cell_type": "code",
   "execution_count": 14,
   "metadata": {},
   "outputs": [
    {
     "data": {
      "image/png": "[encoded data removed]",
      "text/plain": [
       "<Figure size 1200x800 with 5 Axes>"
      ]
     },
     "metadata": {},
     "output_type": "display_data"
    }
   ],
   "source": [
    "import numpy as np\n",
    "import matplotlib.pyplot as plt\n",
    "plt.rc('font', family='Microsoft YaHei')\n",
    "\n",
    "\n",
    "fig = plt.figure(figsize=(12, 8))\n",
    "\n",
    "for i in range(5):\n",
    "    year = 106+i\n",
    "\n",
    "    x = np.arange(3)\n",
    "    width = 0.2\n",
    "\n",
    "# 建立子圖\n",
    "    ax = fig.add_subplot(23*10+(i+1))\n",
    "    ax.set_title(f\"{year} 年\")\n",
    "    ax.bar(x-0.1, height=[df.iloc[i, 1],\n",
    "                          df.iloc[i, 2], df.iloc[i, 3]], width=width)\n",
    "    ax.bar(x+0.1, height=[df.iloc[i, 4],\n",
    "                          df.iloc[i, 5], df.iloc[i, 6]], width=width)\n",
    "    ax.set_xticks(x, [\"延修率\", \"休學率\", \"退學率\"])"
   ]
  },
  {
   "cell_type": "markdown",
   "metadata": {},
   "source": [
    "# plotly.express"
   ]
  },
  {
   "cell_type": "markdown",
   "metadata": {},
   "source": [
    "# 退學原因分布"
   ]
  },
  {
   "cell_type": "code",
   "execution_count": 15,
   "metadata": {},
   "outputs": [
    {
     "name": "stdout",
     "output_type": "stream",
     "text": [
      "    年份  退學人數-總計  退學人數-因成績不佳或曠課時數過多  退學人數-因操行成績  退學人數-因志趣不合  退學人數-因逾期未註冊  \\\n",
      "0  106    16750               2627           2        3314         3906   \n",
      "1  107    17754               2404           2        3353         3760   \n",
      "2  108    17988               2227           6        4066         3838   \n",
      "3  109    17604               2112           3        4031         3798   \n",
      "4  110    18141               1841          11        4265         4300   \n",
      "\n",
      "   退學人數-因休學逾期未復學  退學人數-因懷孕  退學人數-因育嬰  退學人數-因傷病  退學人數-因工作需求  退學人數-因經濟困難  \\\n",
      "0           5180         2         5        49         474          76   \n",
      "1           6152         0         3        75         576          95   \n",
      "2           5898         1        10        81         620         115   \n",
      "3           5733         3        12       122         606          89   \n",
      "4           5617         1         7       127         675         107   \n",
      "\n",
      "   退學人數-因生涯規劃  退學人數-其他(不含死亡)  \n",
      "0         418            697  \n",
      "1         635            699  \n",
      "2         610            516  \n",
      "3         673            422  \n",
      "4         898            292  \n",
      "    年份  退學人數-總計  退學人數-因成績不佳或曠課時數過多  退學人數-因操行成績  退學人數-因志趣不合  退學人數-因逾期未註冊  \\\n",
      "0  106    74806               7819         704       20149        12403   \n",
      "1  107    71573               7674         679       18649        12087   \n",
      "2  108    73210               7871         701       19851        12038   \n",
      "3  109    70460               6669         561       20005        12122   \n",
      "4  110    68458               6455         652       18793        11909   \n",
      "\n",
      "   退學人數-因休學逾期未復學  退學人數-因懷孕  退學人數-因育嬰  退學人數-因傷病  退學人數-因工作需求  退學人數-因經濟困難  \\\n",
      "0          24752        20        30       317        2910         761   \n",
      "1          23515        27        46       328        2915         873   \n",
      "2          24360        27        46       456        3112         903   \n",
      "3          23068        23        51       470        3015         740   \n",
      "4          22275        32        43       431        3107         703   \n",
      "\n",
      "   退學人數-因生涯規劃  退學人數-其他(不含死亡)  \n",
      "0        1100           3841  \n",
      "1        1688           3092  \n",
      "2        2154           1691  \n",
      "3        2754            982  \n",
      "4        3025           1033  \n"
     ]
    }
   ],
   "source": [
    "import pandas as pd\n",
    "import numpy as np\n",
    "\n",
    "# ranking\n",
    "df1 = None\n",
    "# no ranking\n",
    "df2 = None\n",
    "\n",
    "for year in range(106, 111):\n",
    "\n",
    "    #  taiwan schools that year\n",
    "    taiwan_school = pd.read_csv(f\"./data/{year}.csv\")\n",
    "\n",
    "    if df1 is None:\n",
    "        df1 = pd.DataFrame(columns=[\"年份\"]+list(taiwan_school.columns[29:-2]))\n",
    "        df2 = pd.DataFrame(columns=[\"年份\"]+list(taiwan_school.columns[29:-2]))\n",
    "\n",
    "    d1 = {\"年份\": year}\n",
    "    d2 = {\"年份\": year}\n",
    "\n",
    "    for column in taiwan_school.columns[29:-2]:\n",
    "        d1[column] = 0\n",
    "        d2[column] = 0\n",
    "\n",
    "    h, w = taiwan_school.shape\n",
    "\n",
    "    for y in range(h):\n",
    "        dict_select = d2 if pd.isna(taiwan_school.iloc[y, 43]) else d1\n",
    "\n",
    "        for index, column in enumerate(taiwan_school.columns[29:-2]):\n",
    "            dict_select[column] += taiwan_school.iloc[y, 29+index]\n",
    "\n",
    "    df1.loc[len(df1)] = d1\n",
    "    df2.loc[len(df2)] = d2\n",
    "    \n",
    "# print(df)\n",
    "print(df1)\n",
    "print(df2)"
   ]
  },
  {
   "cell_type": "code",
   "execution_count": 16,
   "metadata": {},
   "outputs": [
    {
     "data": {
      "application/vnd.plotly.v1+json": {
       "config": {
        "plotlyServerURL": "https://plot.ly"
       },
       "data": [
        {
         "domain": {
          "x": [
           0,
           0.45
          ],
          "y": [
           0,
           1
          ]
         },
         "hovertemplate": "label=%{label}<br>0=%{value}<extra></extra>",
         "labels": [
          "退學人數-因成績不佳或曠課時數過多",
          "退學人數-因操行成績",
          "退學人數-因志趣不合",
          "退學人數-因逾期未註冊",
          "退學人數-因休學逾期未復學",
          "退學人數-因懷孕",
          "退學人數-因育嬰",
          "退學人數-因傷病",
          "退學人數-因工作需求",
          "退學人數-因經濟困難",
          "退學人數-因生涯規劃",
          "退學人數-其他(不含死亡)"
         ],
         "legendgroup": "",
         "name": "",
         "showlegend": true,
         "type": "pie",
         "values": [
          2627,
          2,
          3314,
          3906,
          5180,
          2,
          5,
          49,
          474,
          76,
          418,
          697
         ]
        },
        {
         "domain": {
          "x": [
           0.55,
           1
          ],
          "y": [
           0,
           1
          ]
         },
         "hovertemplate": "label=%{label}<br>0=%{value}<extra></extra>",
         "labels": [
          "退學人數-因成績不佳或曠課時數過多",
          "退學人數-因操行成績",
          "退學人數-因志趣不合",
          "退學人數-因逾期未註冊",
          "退學人數-因休學逾期未復學",
          "退學人數-因懷孕",
          "退學人數-因育嬰",
          "退學人數-因傷病",
          "退學人數-因工作需求",
          "退學人數-因經濟困難",
          "退學人數-因生涯規劃",
          "退學人數-其他(不含死亡)"
         ],
         "legendgroup": "",
         "name": "",
         "showlegend": true,
         "type": "pie",
         "values": [
          7819,
          704,
          20149,
          12403,
          24752,
          20,
          30,
          317,
          2910,
          761,
          1100,
          3841
         ]
        }
       ],
       "layout": {
        "template": {
         "data": {
          "bar": [
           {
            "error_x": {
             "color": "#2a3f5f"
            },
            "error_y": {
             "color": "#2a3f5f"
            },
            "marker": {
             "line": {
              "color": "#E5ECF6",
              "width": 0.5
             },
             "pattern": {
              "fillmode": "overlay",
              "size": 10,
              "solidity": 0.2
             }
            },
            "type": "bar"
           }
          ],
          "barpolar": [
           {
            "marker": {
             "line": {
              "color": "#E5ECF6",
              "width": 0.5
             },
             "pattern": {
              "fillmode": "overlay",
              "size": 10,
              "solidity": 0.2
             }
            },
            "type": "barpolar"
           }
          ],
          "carpet": [
           {
            "aaxis": {
             "endlinecolor": "#2a3f5f",
             "gridcolor": "white",
             "linecolor": "white",
             "minorgridcolor": "white",
             "startlinecolor": "#2a3f5f"
            },
            "baxis": {
             "endlinecolor": "#2a3f5f",
             "gridcolor": "white",
             "linecolor": "white",
             "minorgridcolor": "white",
             "startlinecolor": "#2a3f5f"
            },
            "type": "carpet"
           }
          ],
          "choropleth": [
           {
            "colorbar": {
             "outlinewidth": 0,
             "ticks": ""
            },
            "type": "choropleth"
           }
          ],
          "contour": [
           {
            "colorbar": {
             "outlinewidth": 0,
             "ticks": ""
            },
            "colorscale": [
             [
              0,
              "#0d0887"
             ],
             [
              0.1111111111111111,
              "#46039f"
             ],
             [
              0.2222222222222222,
              "#7201a8"
             ],
             [
              0.3333333333333333,
              "#9c179e"
             ],
             [
              0.4444444444444444,
              "#bd3786"
             ],
             [
              0.5555555555555556,
              "#d8576b"
             ],
             [
              0.6666666666666666,
              "#ed7953"
             ],
             [
              0.7777777777777778,
              "#fb9f3a"
             ],
             [
              0.8888888888888888,
              "#fdca26"
             ],
             [
              1,
              "#f0f921"
             ]
            ],
            "type": "contour"
           }
          ],
          "contourcarpet": [
           {
            "colorbar": {
             "outlinewidth": 0,
             "ticks": ""
            },
            "type": "contourcarpet"
           }
          ],
          "heatmap": [
           {
            "colorbar": {
             "outlinewidth": 0,
             "ticks": ""
            },
            "colorscale": [
             [
              0,
              "#0d0887"
             ],
             [
              0.1111111111111111,
              "#46039f"
             ],
             [
              0.2222222222222222,
              "#7201a8"
             ],
             [
              0.3333333333333333,
              "#9c179e"
             ],
             [
              0.4444444444444444,
              "#bd3786"
             ],
             [
              0.5555555555555556,
              "#d8576b"
             ],
             [
              0.6666666666666666,
              "#ed7953"
             ],
             [
              0.7777777777777778,
              "#fb9f3a"
             ],
             [
              0.8888888888888888,
              "#fdca26"
             ],
             [
              1,
              "#f0f921"
             ]
            ],
            "type": "heatmap"
           }
          ],
          "heatmapgl": [
           {
            "colorbar": {
             "outlinewidth": 0,
             "ticks": ""
            },
            "colorscale": [
             [
              0,
              "#0d0887"
             ],
             [
              0.1111111111111111,
              "#46039f"
             ],
             [
              0.2222222222222222,
              "#7201a8"
             ],
             [
              0.3333333333333333,
              "#9c179e"
             ],
             [
              0.4444444444444444,
              "#bd3786"
             ],
             [
              0.5555555555555556,
              "#d8576b"
             ],
             [
              0.6666666666666666,
              "#ed7953"
             ],
             [
              0.7777777777777778,
              "#fb9f3a"
             ],
             [
              0.8888888888888888,
              "#fdca26"
             ],
             [
              1,
              "#f0f921"
             ]
            ],
            "type": "heatmapgl"
           }
          ],
          "histogram": [
           {
            "marker": {
             "pattern": {
              "fillmode": "overlay",
              "size": 10,
              "solidity": 0.2
             }
            },
            "type": "histogram"
           }
          ],
          "histogram2d": [
           {
            "colorbar": {
             "outlinewidth": 0,
             "ticks": ""
            },
            "colorscale": [
             [
              0,
              "#0d0887"
             ],
             [
              0.1111111111111111,
              "#46039f"
             ],
             [
              0.2222222222222222,
              "#7201a8"
             ],
             [
              0.3333333333333333,
              "#9c179e"
             ],
             [
              0.4444444444444444,
              "#bd3786"
             ],
             [
              0.5555555555555556,
              "#d8576b"
             ],
             [
              0.6666666666666666,
              "#ed7953"
             ],
             [
              0.7777777777777778,
              "#fb9f3a"
             ],
             [
              0.8888888888888888,
              "#fdca26"
             ],
             [
              1,
              "#f0f921"
             ]
            ],
            "type": "histogram2d"
           }
          ],
          "histogram2dcontour": [
           {
            "colorbar": {
             "outlinewidth": 0,
             "ticks": ""
            },
            "colorscale": [
             [
              0,
              "#0d0887"
             ],
             [
              0.1111111111111111,
              "#46039f"
             ],
             [
              0.2222222222222222,
              "#7201a8"
             ],
             [
              0.3333333333333333,
              "#9c179e"
             ],
             [
              0.4444444444444444,
              "#bd3786"
             ],
             [
              0.5555555555555556,
              "#d8576b"
             ],
             [
              0.6666666666666666,
              "#ed7953"
             ],
             [
              0.7777777777777778,
              "#fb9f3a"
             ],
             [
              0.8888888888888888,
              "#fdca26"
             ],
             [
              1,
              "#f0f921"
             ]
            ],
            "type": "histogram2dcontour"
           }
          ],
          "mesh3d": [
           {
            "colorbar": {
             "outlinewidth": 0,
             "ticks": ""
            },
            "type": "mesh3d"
           }
          ],
          "parcoords": [
           {
            "line": {
             "colorbar": {
              "outlinewidth": 0,
              "ticks": ""
             }
            },
            "type": "parcoords"
           }
          ],
          "pie": [
           {
            "automargin": true,
            "type": "pie"
           }
          ],
          "scatter": [
           {
            "fillpattern": {
             "fillmode": "overlay",
             "size": 10,
             "solidity": 0.2
            },
            "type": "scatter"
           }
          ],
          "scatter3d": [
           {
            "line": {
             "colorbar": {
              "outlinewidth": 0,
              "ticks": ""
             }
            },
            "marker": {
             "colorbar": {
              "outlinewidth": 0,
              "ticks": ""
             }
            },
            "type": "scatter3d"
           }
          ],
          "scattercarpet": [
           {
            "marker": {
             "colorbar": {
              "outlinewidth": 0,
              "ticks": ""
             }
            },
            "type": "scattercarpet"
           }
          ],
          "scattergeo": [
           {
            "marker": {
             "colorbar": {
              "outlinewidth": 0,
              "ticks": ""
             }
            },
            "type": "scattergeo"
           }
          ],
          "scattergl": [
           {
            "marker": {
             "colorbar": {
              "outlinewidth": 0,
              "ticks": ""
             }
            },
            "type": "scattergl"
           }
          ],
          "scattermapbox": [
           {
            "marker": {
             "colorbar": {
              "outlinewidth": 0,
              "ticks": ""
             }
            },
            "type": "scattermapbox"
           }
          ],
          "scatterpolar": [
           {
            "marker": {
             "colorbar": {
              "outlinewidth": 0,
              "ticks": ""
             }
            },
            "type": "scatterpolar"
           }
          ],
          "scatterpolargl": [
           {
            "marker": {
             "colorbar": {
              "outlinewidth": 0,
              "ticks": ""
             }
            },
            "type": "scatterpolargl"
           }
          ],
          "scatterternary": [
           {
            "marker": {
             "colorbar": {
              "outlinewidth": 0,
              "ticks": ""
             }
            },
            "type": "scatterternary"
           }
          ],
          "surface": [
           {
            "colorbar": {
             "outlinewidth": 0,
             "ticks": ""
            },
            "colorscale": [
             [
              0,
              "#0d0887"
             ],
             [
              0.1111111111111111,
              "#46039f"
             ],
             [
              0.2222222222222222,
              "#7201a8"
             ],
             [
              0.3333333333333333,
              "#9c179e"
             ],
             [
              0.4444444444444444,
              "#bd3786"
             ],
             [
              0.5555555555555556,
              "#d8576b"
             ],
             [
              0.6666666666666666,
              "#ed7953"
             ],
             [
              0.7777777777777778,
              "#fb9f3a"
             ],
             [
              0.8888888888888888,
              "#fdca26"
             ],
             [
              1,
              "#f0f921"
             ]
            ],
            "type": "surface"
           }
          ],
          "table": [
           {
            "cells": {
             "fill": {
              "color": "#EBF0F8"
             },
             "line": {
              "color": "white"
             }
            },
            "header": {
             "fill": {
              "color": "#C8D4E3"
             },
             "line": {
              "color": "white"
             }
            },
            "type": "table"
           }
          ]
         },
         "layout": {
          "annotationdefaults": {
           "arrowcolor": "#2a3f5f",
           "arrowhead": 0,
           "arrowwidth": 1
          },
          "autotypenumbers": "strict",
          "coloraxis": {
           "colorbar": {
            "outlinewidth": 0,
            "ticks": ""
           }
          },
          "colorscale": {
           "diverging": [
            [
             0,
             "#8e0152"
            ],
            [
             0.1,
             "#c51b7d"
            ],
            [
             0.2,
             "#de77ae"
            ],
            [
             0.3,
             "#f1b6da"
            ],
            [
             0.4,
             "#fde0ef"
            ],
            [
             0.5,
             "#f7f7f7"
            ],
            [
             0.6,
             "#e6f5d0"
            ],
            [
             0.7,
             "#b8e186"
            ],
            [
             0.8,
             "#7fbc41"
            ],
            [
             0.9,
             "#4d9221"
            ],
            [
             1,
             "#276419"
            ]
           ],
           "sequential": [
            [
             0,
             "#0d0887"
            ],
            [
             0.1111111111111111,
             "#46039f"
            ],
            [
             0.2222222222222222,
             "#7201a8"
            ],
            [
             0.3333333333333333,
             "#9c179e"
            ],
            [
             0.4444444444444444,
             "#bd3786"
            ],
            [
             0.5555555555555556,
             "#d8576b"
            ],
            [
             0.6666666666666666,
             "#ed7953"
            ],
            [
             0.7777777777777778,
             "#fb9f3a"
            ],
            [
             0.8888888888888888,
             "#fdca26"
            ],
            [
             1,
             "#f0f921"
            ]
           ],
           "sequentialminus": [
            [
             0,
             "#0d0887"
            ],
            [
             0.1111111111111111,
             "#46039f"
            ],
            [
             0.2222222222222222,
             "#7201a8"
            ],
            [
             0.3333333333333333,
             "#9c179e"
            ],
            [
             0.4444444444444444,
             "#bd3786"
            ],
            [
             0.5555555555555556,
             "#d8576b"
            ],
            [
             0.6666666666666666,
             "#ed7953"
            ],
            [
             0.7777777777777778,
             "#fb9f3a"
            ],
            [
             0.8888888888888888,
             "#fdca26"
            ],
            [
             1,
             "#f0f921"
            ]
           ]
          },
          "colorway": [
           "#636efa",
           "#EF553B",
           "#00cc96",
           "#ab63fa",
           "#FFA15A",
           "#19d3f3",
           "#FF6692",
           "#B6E880",
           "#FF97FF",
           "#FECB52"
          ],
          "font": {
           "color": "#2a3f5f"
          },
          "geo": {
           "bgcolor": "white",
           "lakecolor": "white",
           "landcolor": "#E5ECF6",
           "showlakes": true,
           "showland": true,
           "subunitcolor": "white"
          },
          "hoverlabel": {
           "align": "left"
          },
          "hovermode": "closest",
          "mapbox": {
           "style": "light"
          },
          "paper_bgcolor": "white",
          "plot_bgcolor": "#E5ECF6",
          "polar": {
           "angularaxis": {
            "gridcolor": "white",
            "linecolor": "white",
            "ticks": ""
           },
           "bgcolor": "#E5ECF6",
           "radialaxis": {
            "gridcolor": "white",
            "linecolor": "white",
            "ticks": ""
           }
          },
          "scene": {
           "xaxis": {
            "backgroundcolor": "#E5ECF6",
            "gridcolor": "white",
            "gridwidth": 2,
            "linecolor": "white",
            "showbackground": true,
            "ticks": "",
            "zerolinecolor": "white"
           },
           "yaxis": {
            "backgroundcolor": "#E5ECF6",
            "gridcolor": "white",
            "gridwidth": 2,
            "linecolor": "white",
            "showbackground": true,
            "ticks": "",
            "zerolinecolor": "white"
           },
           "zaxis": {
            "backgroundcolor": "#E5ECF6",
            "gridcolor": "white",
            "gridwidth": 2,
            "linecolor": "white",
            "showbackground": true,
            "ticks": "",
            "zerolinecolor": "white"
           }
          },
          "shapedefaults": {
           "line": {
            "color": "#2a3f5f"
           }
          },
          "ternary": {
           "aaxis": {
            "gridcolor": "white",
            "linecolor": "white",
            "ticks": ""
           },
           "baxis": {
            "gridcolor": "white",
            "linecolor": "white",
            "ticks": ""
           },
           "bgcolor": "#E5ECF6",
           "caxis": {
            "gridcolor": "white",
            "linecolor": "white",
            "ticks": ""
           }
          },
          "title": {
           "x": 0.05
          },
          "xaxis": {
           "automargin": true,
           "gridcolor": "white",
           "linecolor": "white",
           "ticks": "",
           "title": {
            "standoff": 15
           },
           "zerolinecolor": "white",
           "zerolinewidth": 2
          },
          "yaxis": {
           "automargin": true,
           "gridcolor": "white",
           "linecolor": "white",
           "ticks": "",
           "title": {
            "standoff": 15
           },
           "zerolinecolor": "white",
           "zerolinewidth": 2
          }
         }
        },
        "title": {
         "text": "106 年-退學人數分布"
        }
       }
      }
     },
     "metadata": {},
     "output_type": "display_data"
    },
    {
     "data": {
      "application/vnd.plotly.v1+json": {
       "config": {
        "plotlyServerURL": "https://plot.ly"
       },
       "data": [
        {
         "domain": {
          "x": [
           0,
           0.45
          ],
          "y": [
           0,
           1
          ]
         },
         "hovertemplate": "label=%{label}<br>1=%{value}<extra></extra>",
         "labels": [
          "退學人數-因成績不佳或曠課時數過多",
          "退學人數-因操行成績",
          "退學人數-因志趣不合",
          "退學人數-因逾期未註冊",
          "退學人數-因休學逾期未復學",
          "退學人數-因懷孕",
          "退學人數-因育嬰",
          "退學人數-因傷病",
          "退學人數-因工作需求",
          "退學人數-因經濟困難",
          "退學人數-因生涯規劃",
          "退學人數-其他(不含死亡)"
         ],
         "legendgroup": "",
         "name": "",
         "showlegend": true,
         "type": "pie",
         "values": [
          2404,
          2,
          3353,
          3760,
          6152,
          0,
          3,
          75,
          576,
          95,
          635,
          699
         ]
        },
        {
         "domain": {
          "x": [
           0.55,
           1
          ],
          "y": [
           0,
           1
          ]
         },
         "hovertemplate": "label=%{label}<br>1=%{value}<extra></extra>",
         "labels": [
          "退學人數-因成績不佳或曠課時數過多",
          "退學人數-因操行成績",
          "退學人數-因志趣不合",
          "退學人數-因逾期未註冊",
          "退學人數-因休學逾期未復學",
          "退學人數-因懷孕",
          "退學人數-因育嬰",
          "退學人數-因傷病",
          "退學人數-因工作需求",
          "退學人數-因經濟困難",
          "退學人數-因生涯規劃",
          "退學人數-其他(不含死亡)"
         ],
         "legendgroup": "",
         "name": "",
         "showlegend": true,
         "type": "pie",
         "values": [
          7674,
          679,
          18649,
          12087,
          23515,
          27,
          46,
          328,
          2915,
          873,
          1688,
          3092
         ]
        }
       ],
       "layout": {
        "template": {
         "data": {
          "bar": [
           {
            "error_x": {
             "color": "#2a3f5f"
            },
            "error_y": {
             "color": "#2a3f5f"
            },
            "marker": {
             "line": {
              "color": "#E5ECF6",
              "width": 0.5
             },
             "pattern": {
              "fillmode": "overlay",
              "size": 10,
              "solidity": 0.2
             }
            },
            "type": "bar"
           }
          ],
          "barpolar": [
           {
            "marker": {
             "line": {
              "color": "#E5ECF6",
              "width": 0.5
             },
             "pattern": {
              "fillmode": "overlay",
              "size": 10,
              "solidity": 0.2
             }
            },
            "type": "barpolar"
           }
          ],
          "carpet": [
           {
            "aaxis": {
             "endlinecolor": "#2a3f5f",
             "gridcolor": "white",
             "linecolor": "white",
             "minorgridcolor": "white",
             "startlinecolor": "#2a3f5f"
            },
            "baxis": {
             "endlinecolor": "#2a3f5f",
             "gridcolor": "white",
             "linecolor": "white",
             "minorgridcolor": "white",
             "startlinecolor": "#2a3f5f"
            },
            "type": "carpet"
           }
          ],
          "choropleth": [
           {
            "colorbar": {
             "outlinewidth": 0,
             "ticks": ""
            },
            "type": "choropleth"
           }
          ],
          "contour": [
           {
            "colorbar": {
             "outlinewidth": 0,
             "ticks": ""
            },
            "colorscale": [
             [
              0,
              "#0d0887"
             ],
             [
              0.1111111111111111,
              "#46039f"
             ],
             [
              0.2222222222222222,
              "#7201a8"
             ],
             [
              0.3333333333333333,
              "#9c179e"
             ],
             [
              0.4444444444444444,
              "#bd3786"
             ],
             [
              0.5555555555555556,
              "#d8576b"
             ],
             [
              0.6666666666666666,
              "#ed7953"
             ],
             [
              0.7777777777777778,
              "#fb9f3a"
             ],
             [
              0.8888888888888888,
              "#fdca26"
             ],
             [
              1,
              "#f0f921"
             ]
            ],
            "type": "contour"
           }
          ],
          "contourcarpet": [
           {
            "colorbar": {
             "outlinewidth": 0,
             "ticks": ""
            },
            "type": "contourcarpet"
           }
          ],
          "heatmap": [
           {
            "colorbar": {
             "outlinewidth": 0,
             "ticks": ""
            },
            "colorscale": [
             [
              0,
              "#0d0887"
             ],
             [
              0.1111111111111111,
              "#46039f"
             ],
             [
              0.2222222222222222,
              "#7201a8"
             ],
             [
              0.3333333333333333,
              "#9c179e"
             ],
             [
              0.4444444444444444,
              "#bd3786"
             ],
             [
              0.5555555555555556,
              "#d8576b"
             ],
             [
              0.6666666666666666,
              "#ed7953"
             ],
             [
              0.7777777777777778,
              "#fb9f3a"
             ],
             [
              0.8888888888888888,
              "#fdca26"
             ],
             [
              1,
              "#f0f921"
             ]
            ],
            "type": "heatmap"
           }
          ],
          "heatmapgl": [
           {
            "colorbar": {
             "outlinewidth": 0,
             "ticks": ""
            },
            "colorscale": [
             [
              0,
              "#0d0887"
             ],
             [
              0.1111111111111111,
              "#46039f"
             ],
             [
              0.2222222222222222,
              "#7201a8"
             ],
             [
              0.3333333333333333,
              "#9c179e"
             ],
             [
              0.4444444444444444,
              "#bd3786"
             ],
             [
              0.5555555555555556,
              "#d8576b"
             ],
             [
              0.6666666666666666,
              "#ed7953"
             ],
             [
              0.7777777777777778,
              "#fb9f3a"
             ],
             [
              0.8888888888888888,
              "#fdca26"
             ],
             [
              1,
              "#f0f921"
             ]
            ],
            "type": "heatmapgl"
           }
          ],
          "histogram": [
           {
            "marker": {
             "pattern": {
              "fillmode": "overlay",
              "size": 10,
              "solidity": 0.2
             }
            },
            "type": "histogram"
           }
          ],
          "histogram2d": [
           {
            "colorbar": {
             "outlinewidth": 0,
             "ticks": ""
            },
            "colorscale": [
             [
              0,
              "#0d0887"
             ],
             [
              0.1111111111111111,
              "#46039f"
             ],
             [
              0.2222222222222222,
              "#7201a8"
             ],
             [
              0.3333333333333333,
              "#9c179e"
             ],
             [
              0.4444444444444444,
              "#bd3786"
             ],
             [
              0.5555555555555556,
              "#d8576b"
             ],
             [
              0.6666666666666666,
              "#ed7953"
             ],
             [
              0.7777777777777778,
              "#fb9f3a"
             ],
             [
              0.8888888888888888,
              "#fdca26"
             ],
             [
              1,
              "#f0f921"
             ]
            ],
            "type": "histogram2d"
           }
          ],
          "histogram2dcontour": [
           {
            "colorbar": {
             "outlinewidth": 0,
             "ticks": ""
            },
            "colorscale": [
             [
              0,
              "#0d0887"
             ],
             [
              0.1111111111111111,
              "#46039f"
             ],
             [
              0.2222222222222222,
              "#7201a8"
             ],
             [
              0.3333333333333333,
              "#9c179e"
             ],
             [
              0.4444444444444444,
              "#bd3786"
             ],
             [
              0.5555555555555556,
              "#d8576b"
             ],
             [
              0.6666666666666666,
              "#ed7953"
             ],
             [
              0.7777777777777778,
              "#fb9f3a"
             ],
             [
              0.8888888888888888,
              "#fdca26"
             ],
             [
              1,
              "#f0f921"
             ]
            ],
            "type": "histogram2dcontour"
           }
          ],
          "mesh3d": [
           {
            "colorbar": {
             "outlinewidth": 0,
             "ticks": ""
            },
            "type": "mesh3d"
           }
          ],
          "parcoords": [
           {
            "line": {
             "colorbar": {
              "outlinewidth": 0,
              "ticks": ""
             }
            },
            "type": "parcoords"
           }
          ],
          "pie": [
           {
            "automargin": true,
            "type": "pie"
           }
          ],
          "scatter": [
           {
            "fillpattern": {
             "fillmode": "overlay",
             "size": 10,
             "solidity": 0.2
            },
            "type": "scatter"
           }
          ],
          "scatter3d": [
           {
            "line": {
             "colorbar": {
              "outlinewidth": 0,
              "ticks": ""
             }
            },
            "marker": {
             "colorbar": {
              "outlinewidth": 0,
              "ticks": ""
             }
            },
            "type": "scatter3d"
           }
          ],
          "scattercarpet": [
           {
            "marker": {
             "colorbar": {
              "outlinewidth": 0,
              "ticks": ""
             }
            },
            "type": "scattercarpet"
           }
          ],
          "scattergeo": [
           {
            "marker": {
             "colorbar": {
              "outlinewidth": 0,
              "ticks": ""
             }
            },
            "type": "scattergeo"
           }
          ],
          "scattergl": [
           {
            "marker": {
             "colorbar": {
              "outlinewidth": 0,
              "ticks": ""
             }
            },
            "type": "scattergl"
           }
          ],
          "scattermapbox": [
           {
            "marker": {
             "colorbar": {
              "outlinewidth": 0,
              "ticks": ""
             }
            },
            "type": "scattermapbox"
           }
          ],
          "scatterpolar": [
           {
            "marker": {
             "colorbar": {
              "outlinewidth": 0,
              "ticks": ""
             }
            },
            "type": "scatterpolar"
           }
          ],
          "scatterpolargl": [
           {
            "marker": {
             "colorbar": {
              "outlinewidth": 0,
              "ticks": ""
             }
            },
            "type": "scatterpolargl"
           }
          ],
          "scatterternary": [
           {
            "marker": {
             "colorbar": {
              "outlinewidth": 0,
              "ticks": ""
             }
            },
            "type": "scatterternary"
           }
          ],
          "surface": [
           {
            "colorbar": {
             "outlinewidth": 0,
             "ticks": ""
            },
            "colorscale": [
             [
              0,
              "#0d0887"
             ],
             [
              0.1111111111111111,
              "#46039f"
             ],
             [
              0.2222222222222222,
              "#7201a8"
             ],
             [
              0.3333333333333333,
              "#9c179e"
             ],
             [
              0.4444444444444444,
              "#bd3786"
             ],
             [
              0.5555555555555556,
              "#d8576b"
             ],
             [
              0.6666666666666666,
              "#ed7953"
             ],
             [
              0.7777777777777778,
              "#fb9f3a"
             ],
             [
              0.8888888888888888,
              "#fdca26"
             ],
             [
              1,
              "#f0f921"
             ]
            ],
            "type": "surface"
           }
          ],
          "table": [
           {
            "cells": {
             "fill": {
              "color": "#EBF0F8"
             },
             "line": {
              "color": "white"
             }
            },
            "header": {
             "fill": {
              "color": "#C8D4E3"
             },
             "line": {
              "color": "white"
             }
            },
            "type": "table"
           }
          ]
         },
         "layout": {
          "annotationdefaults": {
           "arrowcolor": "#2a3f5f",
           "arrowhead": 0,
           "arrowwidth": 1
          },
          "autotypenumbers": "strict",
          "coloraxis": {
           "colorbar": {
            "outlinewidth": 0,
            "ticks": ""
           }
          },
          "colorscale": {
           "diverging": [
            [
             0,
             "#8e0152"
            ],
            [
             0.1,
             "#c51b7d"
            ],
            [
             0.2,
             "#de77ae"
            ],
            [
             0.3,
             "#f1b6da"
            ],
            [
             0.4,
             "#fde0ef"
            ],
            [
             0.5,
             "#f7f7f7"
            ],
            [
             0.6,
             "#e6f5d0"
            ],
            [
             0.7,
             "#b8e186"
            ],
            [
             0.8,
             "#7fbc41"
            ],
            [
             0.9,
             "#4d9221"
            ],
            [
             1,
             "#276419"
            ]
           ],
           "sequential": [
            [
             0,
             "#0d0887"
            ],
            [
             0.1111111111111111,
             "#46039f"
            ],
            [
             0.2222222222222222,
             "#7201a8"
            ],
            [
             0.3333333333333333,
             "#9c179e"
            ],
            [
             0.4444444444444444,
             "#bd3786"
            ],
            [
             0.5555555555555556,
             "#d8576b"
            ],
            [
             0.6666666666666666,
             "#ed7953"
            ],
            [
             0.7777777777777778,
             "#fb9f3a"
            ],
            [
             0.8888888888888888,
             "#fdca26"
            ],
            [
             1,
             "#f0f921"
            ]
           ],
           "sequentialminus": [
            [
             0,
             "#0d0887"
            ],
            [
             0.1111111111111111,
             "#46039f"
            ],
            [
             0.2222222222222222,
             "#7201a8"
            ],
            [
             0.3333333333333333,
             "#9c179e"
            ],
            [
             0.4444444444444444,
             "#bd3786"
            ],
            [
             0.5555555555555556,
             "#d8576b"
            ],
            [
             0.6666666666666666,
             "#ed7953"
            ],
            [
             0.7777777777777778,
             "#fb9f3a"
            ],
            [
             0.8888888888888888,
             "#fdca26"
            ],
            [
             1,
             "#f0f921"
            ]
           ]
          },
          "colorway": [
           "#636efa",
           "#EF553B",
           "#00cc96",
           "#ab63fa",
           "#FFA15A",
           "#19d3f3",
           "#FF6692",
           "#B6E880",
           "#FF97FF",
           "#FECB52"
          ],
          "font": {
           "color": "#2a3f5f"
          },
          "geo": {
           "bgcolor": "white",
           "lakecolor": "white",
           "landcolor": "#E5ECF6",
           "showlakes": true,
           "showland": true,
           "subunitcolor": "white"
          },
          "hoverlabel": {
           "align": "left"
          },
          "hovermode": "closest",
          "mapbox": {
           "style": "light"
          },
          "paper_bgcolor": "white",
          "plot_bgcolor": "#E5ECF6",
          "polar": {
           "angularaxis": {
            "gridcolor": "white",
            "linecolor": "white",
            "ticks": ""
           },
           "bgcolor": "#E5ECF6",
           "radialaxis": {
            "gridcolor": "white",
            "linecolor": "white",
            "ticks": ""
           }
          },
          "scene": {
           "xaxis": {
            "backgroundcolor": "#E5ECF6",
            "gridcolor": "white",
            "gridwidth": 2,
            "linecolor": "white",
            "showbackground": true,
            "ticks": "",
            "zerolinecolor": "white"
           },
           "yaxis": {
            "backgroundcolor": "#E5ECF6",
            "gridcolor": "white",
            "gridwidth": 2,
            "linecolor": "white",
            "showbackground": true,
            "ticks": "",
            "zerolinecolor": "white"
           },
           "zaxis": {
            "backgroundcolor": "#E5ECF6",
            "gridcolor": "white",
            "gridwidth": 2,
            "linecolor": "white",
            "showbackground": true,
            "ticks": "",
            "zerolinecolor": "white"
           }
          },
          "shapedefaults": {
           "line": {
            "color": "#2a3f5f"
           }
          },
          "ternary": {
           "aaxis": {
            "gridcolor": "white",
            "linecolor": "white",
            "ticks": ""
           },
           "baxis": {
            "gridcolor": "white",
            "linecolor": "white",
            "ticks": ""
           },
           "bgcolor": "#E5ECF6",
           "caxis": {
            "gridcolor": "white",
            "linecolor": "white",
            "ticks": ""
           }
          },
          "title": {
           "x": 0.05
          },
          "xaxis": {
           "automargin": true,
           "gridcolor": "white",
           "linecolor": "white",
           "ticks": "",
           "title": {
            "standoff": 15
           },
           "zerolinecolor": "white",
           "zerolinewidth": 2
          },
          "yaxis": {
           "automargin": true,
           "gridcolor": "white",
           "linecolor": "white",
           "ticks": "",
           "title": {
            "standoff": 15
           },
           "zerolinecolor": "white",
           "zerolinewidth": 2
          }
         }
        },
        "title": {
         "text": "107 年-退學人數分布"
        }
       }
      }
     },
     "metadata": {},
     "output_type": "display_data"
    },
    {
     "data": {
      "application/vnd.plotly.v1+json": {
       "config": {
        "plotlyServerURL": "https://plot.ly"
       },
       "data": [
        {
         "domain": {
          "x": [
           0,
           0.45
          ],
          "y": [
           0,
           1
          ]
         },
         "hovertemplate": "label=%{label}<br>2=%{value}<extra></extra>",
         "labels": [
          "退學人數-因成績不佳或曠課時數過多",
          "退學人數-因操行成績",
          "退學人數-因志趣不合",
          "退學人數-因逾期未註冊",
          "退學人數-因休學逾期未復學",
          "退學人數-因懷孕",
          "退學人數-因育嬰",
          "退學人數-因傷病",
          "退學人數-因工作需求",
          "退學人數-因經濟困難",
          "退學人數-因生涯規劃",
          "退學人數-其他(不含死亡)"
         ],
         "legendgroup": "",
         "name": "",
         "showlegend": true,
         "type": "pie",
         "values": [
          2227,
          6,
          4066,
          3838,
          5898,
          1,
          10,
          81,
          620,
          115,
          610,
          516
         ]
        },
        {
         "domain": {
          "x": [
           0.55,
           1
          ],
          "y": [
           0,
           1
          ]
         },
         "hovertemplate": "label=%{label}<br>2=%{value}<extra></extra>",
         "labels": [
          "退學人數-因成績不佳或曠課時數過多",
          "退學人數-因操行成績",
          "退學人數-因志趣不合",
          "退學人數-因逾期未註冊",
          "退學人數-因休學逾期未復學",
          "退學人數-因懷孕",
          "退學人數-因育嬰",
          "退學人數-因傷病",
          "退學人數-因工作需求",
          "退學人數-因經濟困難",
          "退學人數-因生涯規劃",
          "退學人數-其他(不含死亡)"
         ],
         "legendgroup": "",
         "name": "",
         "showlegend": true,
         "type": "pie",
         "values": [
          7871,
          701,
          19851,
          12038,
          24360,
          27,
          46,
          456,
          3112,
          903,
          2154,
          1691
         ]
        }
       ],
       "layout": {
        "template": {
         "data": {
          "bar": [
           {
            "error_x": {
             "color": "#2a3f5f"
            },
            "error_y": {
             "color": "#2a3f5f"
            },
            "marker": {
             "line": {
              "color": "#E5ECF6",
              "width": 0.5
             },
             "pattern": {
              "fillmode": "overlay",
              "size": 10,
              "solidity": 0.2
             }
            },
            "type": "bar"
           }
          ],
          "barpolar": [
           {
            "marker": {
             "line": {
              "color": "#E5ECF6",
              "width": 0.5
             },
             "pattern": {
              "fillmode": "overlay",
              "size": 10,
              "solidity": 0.2
             }
            },
            "type": "barpolar"
           }
          ],
          "carpet": [
           {
            "aaxis": {
             "endlinecolor": "#2a3f5f",
             "gridcolor": "white",
             "linecolor": "white",
             "minorgridcolor": "white",
             "startlinecolor": "#2a3f5f"
            },
            "baxis": {
             "endlinecolor": "#2a3f5f",
             "gridcolor": "white",
             "linecolor": "white",
             "minorgridcolor": "white",
             "startlinecolor": "#2a3f5f"
            },
            "type": "carpet"
           }
          ],
          "choropleth": [
           {
            "colorbar": {
             "outlinewidth": 0,
             "ticks": ""
            },
            "type": "choropleth"
           }
          ],
          "contour": [
           {
            "colorbar": {
             "outlinewidth": 0,
             "ticks": ""
            },
            "colorscale": [
             [
              0,
              "#0d0887"
             ],
             [
              0.1111111111111111,
              "#46039f"
             ],
             [
              0.2222222222222222,
              "#7201a8"
             ],
             [
              0.3333333333333333,
              "#9c179e"
             ],
             [
              0.4444444444444444,
              "#bd3786"
             ],
             [
              0.5555555555555556,
              "#d8576b"
             ],
             [
              0.6666666666666666,
              "#ed7953"
             ],
             [
              0.7777777777777778,
              "#fb9f3a"
             ],
             [
              0.8888888888888888,
              "#fdca26"
             ],
             [
              1,
              "#f0f921"
             ]
            ],
            "type": "contour"
           }
          ],
          "contourcarpet": [
           {
            "colorbar": {
             "outlinewidth": 0,
             "ticks": ""
            },
            "type": "contourcarpet"
           }
          ],
          "heatmap": [
           {
            "colorbar": {
             "outlinewidth": 0,
             "ticks": ""
            },
            "colorscale": [
             [
              0,
              "#0d0887"
             ],
             [
              0.1111111111111111,
              "#46039f"
             ],
             [
              0.2222222222222222,
              "#7201a8"
             ],
             [
              0.3333333333333333,
              "#9c179e"
             ],
             [
              0.4444444444444444,
              "#bd3786"
             ],
             [
              0.5555555555555556,
              "#d8576b"
             ],
             [
              0.6666666666666666,
              "#ed7953"
             ],
             [
              0.7777777777777778,
              "#fb9f3a"
             ],
             [
              0.8888888888888888,
              "#fdca26"
             ],
             [
              1,
              "#f0f921"
             ]
            ],
            "type": "heatmap"
           }
          ],
          "heatmapgl": [
           {
            "colorbar": {
             "outlinewidth": 0,
             "ticks": ""
            },
            "colorscale": [
             [
              0,
              "#0d0887"
             ],
             [
              0.1111111111111111,
              "#46039f"
             ],
             [
              0.2222222222222222,
              "#7201a8"
             ],
             [
              0.3333333333333333,
              "#9c179e"
             ],
             [
              0.4444444444444444,
              "#bd3786"
             ],
             [
              0.5555555555555556,
              "#d8576b"
             ],
             [
              0.6666666666666666,
              "#ed7953"
             ],
             [
              0.7777777777777778,
              "#fb9f3a"
             ],
             [
              0.8888888888888888,
              "#fdca26"
             ],
             [
              1,
              "#f0f921"
             ]
            ],
            "type": "heatmapgl"
           }
          ],
          "histogram": [
           {
            "marker": {
             "pattern": {
              "fillmode": "overlay",
              "size": 10,
              "solidity": 0.2
             }
            },
            "type": "histogram"
           }
          ],
          "histogram2d": [
           {
            "colorbar": {
             "outlinewidth": 0,
             "ticks": ""
            },
            "colorscale": [
             [
              0,
              "#0d0887"
             ],
             [
              0.1111111111111111,
              "#46039f"
             ],
             [
              0.2222222222222222,
              "#7201a8"
             ],
             [
              0.3333333333333333,
              "#9c179e"
             ],
             [
              0.4444444444444444,
              "#bd3786"
             ],
             [
              0.5555555555555556,
              "#d8576b"
             ],
             [
              0.6666666666666666,
              "#ed7953"
             ],
             [
              0.7777777777777778,
              "#fb9f3a"
             ],
             [
              0.8888888888888888,
              "#fdca26"
             ],
             [
              1,
              "#f0f921"
             ]
            ],
            "type": "histogram2d"
           }
          ],
          "histogram2dcontour": [
           {
            "colorbar": {
             "outlinewidth": 0,
             "ticks": ""
            },
            "colorscale": [
             [
              0,
              "#0d0887"
             ],
             [
              0.1111111111111111,
              "#46039f"
             ],
             [
              0.2222222222222222,
              "#7201a8"
             ],
             [
              0.3333333333333333,
              "#9c179e"
             ],
             [
              0.4444444444444444,
              "#bd3786"
             ],
             [
              0.5555555555555556,
              "#d8576b"
             ],
             [
              0.6666666666666666,
              "#ed7953"
             ],
             [
              0.7777777777777778,
              "#fb9f3a"
             ],
             [
              0.8888888888888888,
              "#fdca26"
             ],
             [
              1,
              "#f0f921"
             ]
            ],
            "type": "histogram2dcontour"
           }
          ],
          "mesh3d": [
           {
            "colorbar": {
             "outlinewidth": 0,
             "ticks": ""
            },
            "type": "mesh3d"
           }
          ],
          "parcoords": [
           {
            "line": {
             "colorbar": {
              "outlinewidth": 0,
              "ticks": ""
             }
            },
            "type": "parcoords"
           }
          ],
          "pie": [
           {
            "automargin": true,
            "type": "pie"
           }
          ],
          "scatter": [
           {
            "fillpattern": {
             "fillmode": "overlay",
             "size": 10,
             "solidity": 0.2
            },
            "type": "scatter"
           }
          ],
          "scatter3d": [
           {
            "line": {
             "colorbar": {
              "outlinewidth": 0,
              "ticks": ""
             }
            },
            "marker": {
             "colorbar": {
              "outlinewidth": 0,
              "ticks": ""
             }
            },
            "type": "scatter3d"
           }
          ],
          "scattercarpet": [
           {
            "marker": {
             "colorbar": {
              "outlinewidth": 0,
              "ticks": ""
             }
            },
            "type": "scattercarpet"
           }
          ],
          "scattergeo": [
           {
            "marker": {
             "colorbar": {
              "outlinewidth": 0,
              "ticks": ""
             }
            },
            "type": "scattergeo"
           }
          ],
          "scattergl": [
           {
            "marker": {
             "colorbar": {
              "outlinewidth": 0,
              "ticks": ""
             }
            },
            "type": "scattergl"
           }
          ],
          "scattermapbox": [
           {
            "marker": {
             "colorbar": {
              "outlinewidth": 0,
              "ticks": ""
             }
            },
            "type": "scattermapbox"
           }
          ],
          "scatterpolar": [
           {
            "marker": {
             "colorbar": {
              "outlinewidth": 0,
              "ticks": ""
             }
            },
            "type": "scatterpolar"
           }
          ],
          "scatterpolargl": [
           {
            "marker": {
             "colorbar": {
              "outlinewidth": 0,
              "ticks": ""
             }
            },
            "type": "scatterpolargl"
           }
          ],
          "scatterternary": [
           {
            "marker": {
             "colorbar": {
              "outlinewidth": 0,
              "ticks": ""
             }
            },
            "type": "scatterternary"
           }
          ],
          "surface": [
           {
            "colorbar": {
             "outlinewidth": 0,
             "ticks": ""
            },
            "colorscale": [
             [
              0,
              "#0d0887"
             ],
             [
              0.1111111111111111,
              "#46039f"
             ],
             [
              0.2222222222222222,
              "#7201a8"
             ],
             [
              0.3333333333333333,
              "#9c179e"
             ],
             [
              0.4444444444444444,
              "#bd3786"
             ],
             [
              0.5555555555555556,
              "#d8576b"
             ],
             [
              0.6666666666666666,
              "#ed7953"
             ],
             [
              0.7777777777777778,
              "#fb9f3a"
             ],
             [
              0.8888888888888888,
              "#fdca26"
             ],
             [
              1,
              "#f0f921"
             ]
            ],
            "type": "surface"
           }
          ],
          "table": [
           {
            "cells": {
             "fill": {
              "color": "#EBF0F8"
             },
             "line": {
              "color": "white"
             }
            },
            "header": {
             "fill": {
              "color": "#C8D4E3"
             },
             "line": {
              "color": "white"
             }
            },
            "type": "table"
           }
          ]
         },
         "layout": {
          "annotationdefaults": {
           "arrowcolor": "#2a3f5f",
           "arrowhead": 0,
           "arrowwidth": 1
          },
          "autotypenumbers": "strict",
          "coloraxis": {
           "colorbar": {
            "outlinewidth": 0,
            "ticks": ""
           }
          },
          "colorscale": {
           "diverging": [
            [
             0,
             "#8e0152"
            ],
            [
             0.1,
             "#c51b7d"
            ],
            [
             0.2,
             "#de77ae"
            ],
            [
             0.3,
             "#f1b6da"
            ],
            [
             0.4,
             "#fde0ef"
            ],
            [
             0.5,
             "#f7f7f7"
            ],
            [
             0.6,
             "#e6f5d0"
            ],
            [
             0.7,
             "#b8e186"
            ],
            [
             0.8,
             "#7fbc41"
            ],
            [
             0.9,
             "#4d9221"
            ],
            [
             1,
             "#276419"
            ]
           ],
           "sequential": [
            [
             0,
             "#0d0887"
            ],
            [
             0.1111111111111111,
             "#46039f"
            ],
            [
             0.2222222222222222,
             "#7201a8"
            ],
            [
             0.3333333333333333,
             "#9c179e"
            ],
            [
             0.4444444444444444,
             "#bd3786"
            ],
            [
             0.5555555555555556,
             "#d8576b"
            ],
            [
             0.6666666666666666,
             "#ed7953"
            ],
            [
             0.7777777777777778,
             "#fb9f3a"
            ],
            [
             0.8888888888888888,
             "#fdca26"
            ],
            [
             1,
             "#f0f921"
            ]
           ],
           "sequentialminus": [
            [
             0,
             "#0d0887"
            ],
            [
             0.1111111111111111,
             "#46039f"
            ],
            [
             0.2222222222222222,
             "#7201a8"
            ],
            [
             0.3333333333333333,
             "#9c179e"
            ],
            [
             0.4444444444444444,
             "#bd3786"
            ],
            [
             0.5555555555555556,
             "#d8576b"
            ],
            [
             0.6666666666666666,
             "#ed7953"
            ],
            [
             0.7777777777777778,
             "#fb9f3a"
            ],
            [
             0.8888888888888888,
             "#fdca26"
            ],
            [
             1,
             "#f0f921"
            ]
           ]
          },
          "colorway": [
           "#636efa",
           "#EF553B",
           "#00cc96",
           "#ab63fa",
           "#FFA15A",
           "#19d3f3",
           "#FF6692",
           "#B6E880",
           "#FF97FF",
           "#FECB52"
          ],
          "font": {
           "color": "#2a3f5f"
          },
          "geo": {
           "bgcolor": "white",
           "lakecolor": "white",
           "landcolor": "#E5ECF6",
           "showlakes": true,
           "showland": true,
           "subunitcolor": "white"
          },
          "hoverlabel": {
           "align": "left"
          },
          "hovermode": "closest",
          "mapbox": {
           "style": "light"
          },
          "paper_bgcolor": "white",
          "plot_bgcolor": "#E5ECF6",
          "polar": {
           "angularaxis": {
            "gridcolor": "white",
            "linecolor": "white",
            "ticks": ""
           },
           "bgcolor": "#E5ECF6",
           "radialaxis": {
            "gridcolor": "white",
            "linecolor": "white",
            "ticks": ""
           }
          },
          "scene": {
           "xaxis": {
            "backgroundcolor": "#E5ECF6",
            "gridcolor": "white",
            "gridwidth": 2,
            "linecolor": "white",
            "showbackground": true,
            "ticks": "",
            "zerolinecolor": "white"
           },
           "yaxis": {
            "backgroundcolor": "#E5ECF6",
            "gridcolor": "white",
            "gridwidth": 2,
            "linecolor": "white",
            "showbackground": true,
            "ticks": "",
            "zerolinecolor": "white"
           },
           "zaxis": {
            "backgroundcolor": "#E5ECF6",
            "gridcolor": "white",
            "gridwidth": 2,
            "linecolor": "white",
            "showbackground": true,
            "ticks": "",
            "zerolinecolor": "white"
           }
          },
          "shapedefaults": {
           "line": {
            "color": "#2a3f5f"
           }
          },
          "ternary": {
           "aaxis": {
            "gridcolor": "white",
            "linecolor": "white",
            "ticks": ""
           },
           "baxis": {
            "gridcolor": "white",
            "linecolor": "white",
            "ticks": ""
           },
           "bgcolor": "#E5ECF6",
           "caxis": {
            "gridcolor": "white",
            "linecolor": "white",
            "ticks": ""
           }
          },
          "title": {
           "x": 0.05
          },
          "xaxis": {
           "automargin": true,
           "gridcolor": "white",
           "linecolor": "white",
           "ticks": "",
           "title": {
            "standoff": 15
           },
           "zerolinecolor": "white",
           "zerolinewidth": 2
          },
          "yaxis": {
           "automargin": true,
           "gridcolor": "white",
           "linecolor": "white",
           "ticks": "",
           "title": {
            "standoff": 15
           },
           "zerolinecolor": "white",
           "zerolinewidth": 2
          }
         }
        },
        "title": {
         "text": "108 年-退學人數分布"
        }
       }
      }
     },
     "metadata": {},
     "output_type": "display_data"
    },
    {
     "data": {
      "application/vnd.plotly.v1+json": {
       "config": {
        "plotlyServerURL": "https://plot.ly"
       },
       "data": [
        {
         "domain": {
          "x": [
           0,
           0.45
          ],
          "y": [
           0,
           1
          ]
         },
         "hovertemplate": "label=%{label}<br>3=%{value}<extra></extra>",
         "labels": [
          "退學人數-因成績不佳或曠課時數過多",
          "退學人數-因操行成績",
          "退學人數-因志趣不合",
          "退學人數-因逾期未註冊",
          "退學人數-因休學逾期未復學",
          "退學人數-因懷孕",
          "退學人數-因育嬰",
          "退學人數-因傷病",
          "退學人數-因工作需求",
          "退學人數-因經濟困難",
          "退學人數-因生涯規劃",
          "退學人數-其他(不含死亡)"
         ],
         "legendgroup": "",
         "name": "",
         "showlegend": true,
         "type": "pie",
         "values": [
          2112,
          3,
          4031,
          3798,
          5733,
          3,
          12,
          122,
          606,
          89,
          673,
          422
         ]
        },
        {
         "domain": {
          "x": [
           0.55,
           1
          ],
          "y": [
           0,
           1
          ]
         },
         "hovertemplate": "label=%{label}<br>3=%{value}<extra></extra>",
         "labels": [
          "退學人數-因成績不佳或曠課時數過多",
          "退學人數-因操行成績",
          "退學人數-因志趣不合",
          "退學人數-因逾期未註冊",
          "退學人數-因休學逾期未復學",
          "退學人數-因懷孕",
          "退學人數-因育嬰",
          "退學人數-因傷病",
          "退學人數-因工作需求",
          "退學人數-因經濟困難",
          "退學人數-因生涯規劃",
          "退學人數-其他(不含死亡)"
         ],
         "legendgroup": "",
         "name": "",
         "showlegend": true,
         "type": "pie",
         "values": [
          6669,
          561,
          20005,
          12122,
          23068,
          23,
          51,
          470,
          3015,
          740,
          2754,
          982
         ]
        }
       ],
       "layout": {
        "template": {
         "data": {
          "bar": [
           {
            "error_x": {
             "color": "#2a3f5f"
            },
            "error_y": {
             "color": "#2a3f5f"
            },
            "marker": {
             "line": {
              "color": "#E5ECF6",
              "width": 0.5
             },
             "pattern": {
              "fillmode": "overlay",
              "size": 10,
              "solidity": 0.2
             }
            },
            "type": "bar"
           }
          ],
          "barpolar": [
           {
            "marker": {
             "line": {
              "color": "#E5ECF6",
              "width": 0.5
             },
             "pattern": {
              "fillmode": "overlay",
              "size": 10,
              "solidity": 0.2
             }
            },
            "type": "barpolar"
           }
          ],
          "carpet": [
           {
            "aaxis": {
             "endlinecolor": "#2a3f5f",
             "gridcolor": "white",
             "linecolor": "white",
             "minorgridcolor": "white",
             "startlinecolor": "#2a3f5f"
            },
            "baxis": {
             "endlinecolor": "#2a3f5f",
             "gridcolor": "white",
             "linecolor": "white",
             "minorgridcolor": "white",
             "startlinecolor": "#2a3f5f"
            },
            "type": "carpet"
           }
          ],
          "choropleth": [
           {
            "colorbar": {
             "outlinewidth": 0,
             "ticks": ""
            },
            "type": "choropleth"
           }
          ],
          "contour": [
           {
            "colorbar": {
             "outlinewidth": 0,
             "ticks": ""
            },
            "colorscale": [
             [
              0,
              "#0d0887"
             ],
             [
              0.1111111111111111,
              "#46039f"
             ],
             [
              0.2222222222222222,
              "#7201a8"
             ],
             [
              0.3333333333333333,
              "#9c179e"
             ],
             [
              0.4444444444444444,
              "#bd3786"
             ],
             [
              0.5555555555555556,
              "#d8576b"
             ],
             [
              0.6666666666666666,
              "#ed7953"
             ],
             [
              0.7777777777777778,
              "#fb9f3a"
             ],
             [
              0.8888888888888888,
              "#fdca26"
             ],
             [
              1,
              "#f0f921"
             ]
            ],
            "type": "contour"
           }
          ],
          "contourcarpet": [
           {
            "colorbar": {
             "outlinewidth": 0,
             "ticks": ""
            },
            "type": "contourcarpet"
           }
          ],
          "heatmap": [
           {
            "colorbar": {
             "outlinewidth": 0,
             "ticks": ""
            },
            "colorscale": [
             [
              0,
              "#0d0887"
             ],
             [
              0.1111111111111111,
              "#46039f"
             ],
             [
              0.2222222222222222,
              "#7201a8"
             ],
             [
              0.3333333333333333,
              "#9c179e"
             ],
             [
              0.4444444444444444,
              "#bd3786"
             ],
             [
              0.5555555555555556,
              "#d8576b"
             ],
             [
              0.6666666666666666,
              "#ed7953"
             ],
             [
              0.7777777777777778,
              "#fb9f3a"
             ],
             [
              0.8888888888888888,
              "#fdca26"
             ],
             [
              1,
              "#f0f921"
             ]
            ],
            "type": "heatmap"
           }
          ],
          "heatmapgl": [
           {
            "colorbar": {
             "outlinewidth": 0,
             "ticks": ""
            },
            "colorscale": [
             [
              0,
              "#0d0887"
             ],
             [
              0.1111111111111111,
              "#46039f"
             ],
             [
              0.2222222222222222,
              "#7201a8"
             ],
             [
              0.3333333333333333,
              "#9c179e"
             ],
             [
              0.4444444444444444,
              "#bd3786"
             ],
             [
              0.5555555555555556,
              "#d8576b"
             ],
             [
              0.6666666666666666,
              "#ed7953"
             ],
             [
              0.7777777777777778,
              "#fb9f3a"
             ],
             [
              0.8888888888888888,
              "#fdca26"
             ],
             [
              1,
              "#f0f921"
             ]
            ],
            "type": "heatmapgl"
           }
          ],
          "histogram": [
           {
            "marker": {
             "pattern": {
              "fillmode": "overlay",
              "size": 10,
              "solidity": 0.2
             }
            },
            "type": "histogram"
           }
          ],
          "histogram2d": [
           {
            "colorbar": {
             "outlinewidth": 0,
             "ticks": ""
            },
            "colorscale": [
             [
              0,
              "#0d0887"
             ],
             [
              0.1111111111111111,
              "#46039f"
             ],
             [
              0.2222222222222222,
              "#7201a8"
             ],
             [
              0.3333333333333333,
              "#9c179e"
             ],
             [
              0.4444444444444444,
              "#bd3786"
             ],
             [
              0.5555555555555556,
              "#d8576b"
             ],
             [
              0.6666666666666666,
              "#ed7953"
             ],
             [
              0.7777777777777778,
              "#fb9f3a"
             ],
             [
              0.8888888888888888,
              "#fdca26"
             ],
             [
              1,
              "#f0f921"
             ]
            ],
            "type": "histogram2d"
           }
          ],
          "histogram2dcontour": [
           {
            "colorbar": {
             "outlinewidth": 0,
             "ticks": ""
            },
            "colorscale": [
             [
              0,
              "#0d0887"
             ],
             [
              0.1111111111111111,
              "#46039f"
             ],
             [
              0.2222222222222222,
              "#7201a8"
             ],
             [
              0.3333333333333333,
              "#9c179e"
             ],
             [
              0.4444444444444444,
              "#bd3786"
             ],
             [
              0.5555555555555556,
              "#d8576b"
             ],
             [
              0.6666666666666666,
              "#ed7953"
             ],
             [
              0.7777777777777778,
              "#fb9f3a"
             ],
             [
              0.8888888888888888,
              "#fdca26"
             ],
             [
              1,
              "#f0f921"
             ]
            ],
            "type": "histogram2dcontour"
           }
          ],
          "mesh3d": [
           {
            "colorbar": {
             "outlinewidth": 0,
             "ticks": ""
            },
            "type": "mesh3d"
           }
          ],
          "parcoords": [
           {
            "line": {
             "colorbar": {
              "outlinewidth": 0,
              "ticks": ""
             }
            },
            "type": "parcoords"
           }
          ],
          "pie": [
           {
            "automargin": true,
            "type": "pie"
           }
          ],
          "scatter": [
           {
            "fillpattern": {
             "fillmode": "overlay",
             "size": 10,
             "solidity": 0.2
            },
            "type": "scatter"
           }
          ],
          "scatter3d": [
           {
            "line": {
             "colorbar": {
              "outlinewidth": 0,
              "ticks": ""
             }
            },
            "marker": {
             "colorbar": {
              "outlinewidth": 0,
              "ticks": ""
             }
            },
            "type": "scatter3d"
           }
          ],
          "scattercarpet": [
           {
            "marker": {
             "colorbar": {
              "outlinewidth": 0,
              "ticks": ""
             }
            },
            "type": "scattercarpet"
           }
          ],
          "scattergeo": [
           {
            "marker": {
             "colorbar": {
              "outlinewidth": 0,
              "ticks": ""
             }
            },
            "type": "scattergeo"
           }
          ],
          "scattergl": [
           {
            "marker": {
             "colorbar": {
              "outlinewidth": 0,
              "ticks": ""
             }
            },
            "type": "scattergl"
           }
          ],
          "scattermapbox": [
           {
            "marker": {
             "colorbar": {
              "outlinewidth": 0,
              "ticks": ""
             }
            },
            "type": "scattermapbox"
           }
          ],
          "scatterpolar": [
           {
            "marker": {
             "colorbar": {
              "outlinewidth": 0,
              "ticks": ""
             }
            },
            "type": "scatterpolar"
           }
          ],
          "scatterpolargl": [
           {
            "marker": {
             "colorbar": {
              "outlinewidth": 0,
              "ticks": ""
             }
            },
            "type": "scatterpolargl"
           }
          ],
          "scatterternary": [
           {
            "marker": {
             "colorbar": {
              "outlinewidth": 0,
              "ticks": ""
             }
            },
            "type": "scatterternary"
           }
          ],
          "surface": [
           {
            "colorbar": {
             "outlinewidth": 0,
             "ticks": ""
            },
            "colorscale": [
             [
              0,
              "#0d0887"
             ],
             [
              0.1111111111111111,
              "#46039f"
             ],
             [
              0.2222222222222222,
              "#7201a8"
             ],
             [
              0.3333333333333333,
              "#9c179e"
             ],
             [
              0.4444444444444444,
              "#bd3786"
             ],
             [
              0.5555555555555556,
              "#d8576b"
             ],
             [
              0.6666666666666666,
              "#ed7953"
             ],
             [
              0.7777777777777778,
              "#fb9f3a"
             ],
             [
              0.8888888888888888,
              "#fdca26"
             ],
             [
              1,
              "#f0f921"
             ]
            ],
            "type": "surface"
           }
          ],
          "table": [
           {
            "cells": {
             "fill": {
              "color": "#EBF0F8"
             },
             "line": {
              "color": "white"
             }
            },
            "header": {
             "fill": {
              "color": "#C8D4E3"
             },
             "line": {
              "color": "white"
             }
            },
            "type": "table"
           }
          ]
         },
         "layout": {
          "annotationdefaults": {
           "arrowcolor": "#2a3f5f",
           "arrowhead": 0,
           "arrowwidth": 1
          },
          "autotypenumbers": "strict",
          "coloraxis": {
           "colorbar": {
            "outlinewidth": 0,
            "ticks": ""
           }
          },
          "colorscale": {
           "diverging": [
            [
             0,
             "#8e0152"
            ],
            [
             0.1,
             "#c51b7d"
            ],
            [
             0.2,
             "#de77ae"
            ],
            [
             0.3,
             "#f1b6da"
            ],
            [
             0.4,
             "#fde0ef"
            ],
            [
             0.5,
             "#f7f7f7"
            ],
            [
             0.6,
             "#e6f5d0"
            ],
            [
             0.7,
             "#b8e186"
            ],
            [
             0.8,
             "#7fbc41"
            ],
            [
             0.9,
             "#4d9221"
            ],
            [
             1,
             "#276419"
            ]
           ],
           "sequential": [
            [
             0,
             "#0d0887"
            ],
            [
             0.1111111111111111,
             "#46039f"
            ],
            [
             0.2222222222222222,
             "#7201a8"
            ],
            [
             0.3333333333333333,
             "#9c179e"
            ],
            [
             0.4444444444444444,
             "#bd3786"
            ],
            [
             0.5555555555555556,
             "#d8576b"
            ],
            [
             0.6666666666666666,
             "#ed7953"
            ],
            [
             0.7777777777777778,
             "#fb9f3a"
            ],
            [
             0.8888888888888888,
             "#fdca26"
            ],
            [
             1,
             "#f0f921"
            ]
           ],
           "sequentialminus": [
            [
             0,
             "#0d0887"
            ],
            [
             0.1111111111111111,
             "#46039f"
            ],
            [
             0.2222222222222222,
             "#7201a8"
            ],
            [
             0.3333333333333333,
             "#9c179e"
            ],
            [
             0.4444444444444444,
             "#bd3786"
            ],
            [
             0.5555555555555556,
             "#d8576b"
            ],
            [
             0.6666666666666666,
             "#ed7953"
            ],
            [
             0.7777777777777778,
             "#fb9f3a"
            ],
            [
             0.8888888888888888,
             "#fdca26"
            ],
            [
             1,
             "#f0f921"
            ]
           ]
          },
          "colorway": [
           "#636efa",
           "#EF553B",
           "#00cc96",
           "#ab63fa",
           "#FFA15A",
           "#19d3f3",
           "#FF6692",
           "#B6E880",
           "#FF97FF",
           "#FECB52"
          ],
          "font": {
           "color": "#2a3f5f"
          },
          "geo": {
           "bgcolor": "white",
           "lakecolor": "white",
           "landcolor": "#E5ECF6",
           "showlakes": true,
           "showland": true,
           "subunitcolor": "white"
          },
          "hoverlabel": {
           "align": "left"
          },
          "hovermode": "closest",
          "mapbox": {
           "style": "light"
          },
          "paper_bgcolor": "white",
          "plot_bgcolor": "#E5ECF6",
          "polar": {
           "angularaxis": {
            "gridcolor": "white",
            "linecolor": "white",
            "ticks": ""
           },
           "bgcolor": "#E5ECF6",
           "radialaxis": {
            "gridcolor": "white",
            "linecolor": "white",
            "ticks": ""
           }
          },
          "scene": {
           "xaxis": {
            "backgroundcolor": "#E5ECF6",
            "gridcolor": "white",
            "gridwidth": 2,
            "linecolor": "white",
            "showbackground": true,
            "ticks": "",
            "zerolinecolor": "white"
           },
           "yaxis": {
            "backgroundcolor": "#E5ECF6",
            "gridcolor": "white",
            "gridwidth": 2,
            "linecolor": "white",
            "showbackground": true,
            "ticks": "",
            "zerolinecolor": "white"
           },
           "zaxis": {
            "backgroundcolor": "#E5ECF6",
            "gridcolor": "white",
            "gridwidth": 2,
            "linecolor": "white",
            "showbackground": true,
            "ticks": "",
            "zerolinecolor": "white"
           }
          },
          "shapedefaults": {
           "line": {
            "color": "#2a3f5f"
           }
          },
          "ternary": {
           "aaxis": {
            "gridcolor": "white",
            "linecolor": "white",
            "ticks": ""
           },
           "baxis": {
            "gridcolor": "white",
            "linecolor": "white",
            "ticks": ""
           },
           "bgcolor": "#E5ECF6",
           "caxis": {
            "gridcolor": "white",
            "linecolor": "white",
            "ticks": ""
           }
          },
          "title": {
           "x": 0.05
          },
          "xaxis": {
           "automargin": true,
           "gridcolor": "white",
           "linecolor": "white",
           "ticks": "",
           "title": {
            "standoff": 15
           },
           "zerolinecolor": "white",
           "zerolinewidth": 2
          },
          "yaxis": {
           "automargin": true,
           "gridcolor": "white",
           "linecolor": "white",
           "ticks": "",
           "title": {
            "standoff": 15
           },
           "zerolinecolor": "white",
           "zerolinewidth": 2
          }
         }
        },
        "title": {
         "text": "109 年-退學人數分布"
        }
       }
      }
     },
     "metadata": {},
     "output_type": "display_data"
    },
    {
     "data": {
      "application/vnd.plotly.v1+json": {
       "config": {
        "plotlyServerURL": "https://plot.ly"
       },
       "data": [
        {
         "domain": {
          "x": [
           0,
           0.45
          ],
          "y": [
           0,
           1
          ]
         },
         "hovertemplate": "label=%{label}<br>4=%{value}<extra></extra>",
         "labels": [
          "退學人數-因成績不佳或曠課時數過多",
          "退學人數-因操行成績",
          "退學人數-因志趣不合",
          "退學人數-因逾期未註冊",
          "退學人數-因休學逾期未復學",
          "退學人數-因懷孕",
          "退學人數-因育嬰",
          "退學人數-因傷病",
          "退學人數-因工作需求",
          "退學人數-因經濟困難",
          "退學人數-因生涯規劃",
          "退學人數-其他(不含死亡)"
         ],
         "legendgroup": "",
         "name": "",
         "showlegend": true,
         "type": "pie",
         "values": [
          1841,
          11,
          4265,
          4300,
          5617,
          1,
          7,
          127,
          675,
          107,
          898,
          292
         ]
        },
        {
         "domain": {
          "x": [
           0.55,
           1
          ],
          "y": [
           0,
           1
          ]
         },
         "hovertemplate": "label=%{label}<br>4=%{value}<extra></extra>",
         "labels": [
          "退學人數-因成績不佳或曠課時數過多",
          "退學人數-因操行成績",
          "退學人數-因志趣不合",
          "退學人數-因逾期未註冊",
          "退學人數-因休學逾期未復學",
          "退學人數-因懷孕",
          "退學人數-因育嬰",
          "退學人數-因傷病",
          "退學人數-因工作需求",
          "退學人數-因經濟困難",
          "退學人數-因生涯規劃",
          "退學人數-其他(不含死亡)"
         ],
         "legendgroup": "",
         "name": "",
         "showlegend": true,
         "type": "pie",
         "values": [
          6455,
          652,
          18793,
          11909,
          22275,
          32,
          43,
          431,
          3107,
          703,
          3025,
          1033
         ]
        }
       ],
       "layout": {
        "template": {
         "data": {
          "bar": [
           {
            "error_x": {
             "color": "#2a3f5f"
            },
            "error_y": {
             "color": "#2a3f5f"
            },
            "marker": {
             "line": {
              "color": "#E5ECF6",
              "width": 0.5
             },
             "pattern": {
              "fillmode": "overlay",
              "size": 10,
              "solidity": 0.2
             }
            },
            "type": "bar"
           }
          ],
          "barpolar": [
           {
            "marker": {
             "line": {
              "color": "#E5ECF6",
              "width": 0.5
             },
             "pattern": {
              "fillmode": "overlay",
              "size": 10,
              "solidity": 0.2
             }
            },
            "type": "barpolar"
           }
          ],
          "carpet": [
           {
            "aaxis": {
             "endlinecolor": "#2a3f5f",
             "gridcolor": "white",
             "linecolor": "white",
             "minorgridcolor": "white",
             "startlinecolor": "#2a3f5f"
            },
            "baxis": {
             "endlinecolor": "#2a3f5f",
             "gridcolor": "white",
             "linecolor": "white",
             "minorgridcolor": "white",
             "startlinecolor": "#2a3f5f"
            },
            "type": "carpet"
           }
          ],
          "choropleth": [
           {
            "colorbar": {
             "outlinewidth": 0,
             "ticks": ""
            },
            "type": "choropleth"
           }
          ],
          "contour": [
           {
            "colorbar": {
             "outlinewidth": 0,
             "ticks": ""
            },
            "colorscale": [
             [
              0,
              "#0d0887"
             ],
             [
              0.1111111111111111,
              "#46039f"
             ],
             [
              0.2222222222222222,
              "#7201a8"
             ],
             [
              0.3333333333333333,
              "#9c179e"
             ],
             [
              0.4444444444444444,
              "#bd3786"
             ],
             [
              0.5555555555555556,
              "#d8576b"
             ],
             [
              0.6666666666666666,
              "#ed7953"
             ],
             [
              0.7777777777777778,
              "#fb9f3a"
             ],
             [
              0.8888888888888888,
              "#fdca26"
             ],
             [
              1,
              "#f0f921"
             ]
            ],
            "type": "contour"
           }
          ],
          "contourcarpet": [
           {
            "colorbar": {
             "outlinewidth": 0,
             "ticks": ""
            },
            "type": "contourcarpet"
           }
          ],
          "heatmap": [
           {
            "colorbar": {
             "outlinewidth": 0,
             "ticks": ""
            },
            "colorscale": [
             [
              0,
              "#0d0887"
             ],
             [
              0.1111111111111111,
              "#46039f"
             ],
             [
              0.2222222222222222,
              "#7201a8"
             ],
             [
              0.3333333333333333,
              "#9c179e"
             ],
             [
              0.4444444444444444,
              "#bd3786"
             ],
             [
              0.5555555555555556,
              "#d8576b"
             ],
             [
              0.6666666666666666,
              "#ed7953"
             ],
             [
              0.7777777777777778,
              "#fb9f3a"
             ],
             [
              0.8888888888888888,
              "#fdca26"
             ],
             [
              1,
              "#f0f921"
             ]
            ],
            "type": "heatmap"
           }
          ],
          "heatmapgl": [
           {
            "colorbar": {
             "outlinewidth": 0,
             "ticks": ""
            },
            "colorscale": [
             [
              0,
              "#0d0887"
             ],
             [
              0.1111111111111111,
              "#46039f"
             ],
             [
              0.2222222222222222,
              "#7201a8"
             ],
             [
              0.3333333333333333,
              "#9c179e"
             ],
             [
              0.4444444444444444,
              "#bd3786"
             ],
             [
              0.5555555555555556,
              "#d8576b"
             ],
             [
              0.6666666666666666,
              "#ed7953"
             ],
             [
              0.7777777777777778,
              "#fb9f3a"
             ],
             [
              0.8888888888888888,
              "#fdca26"
             ],
             [
              1,
              "#f0f921"
             ]
            ],
            "type": "heatmapgl"
           }
          ],
          "histogram": [
           {
            "marker": {
             "pattern": {
              "fillmode": "overlay",
              "size": 10,
              "solidity": 0.2
             }
            },
            "type": "histogram"
           }
          ],
          "histogram2d": [
           {
            "colorbar": {
             "outlinewidth": 0,
             "ticks": ""
            },
            "colorscale": [
             [
              0,
              "#0d0887"
             ],
             [
              0.1111111111111111,
              "#46039f"
             ],
             [
              0.2222222222222222,
              "#7201a8"
             ],
             [
              0.3333333333333333,
              "#9c179e"
             ],
             [
              0.4444444444444444,
              "#bd3786"
             ],
             [
              0.5555555555555556,
              "#d8576b"
             ],
             [
              0.6666666666666666,
              "#ed7953"
             ],
             [
              0.7777777777777778,
              "#fb9f3a"
             ],
             [
              0.8888888888888888,
              "#fdca26"
             ],
             [
              1,
              "#f0f921"
             ]
            ],
            "type": "histogram2d"
           }
          ],
          "histogram2dcontour": [
           {
            "colorbar": {
             "outlinewidth": 0,
             "ticks": ""
            },
            "colorscale": [
             [
              0,
              "#0d0887"
             ],
             [
              0.1111111111111111,
              "#46039f"
             ],
             [
              0.2222222222222222,
              "#7201a8"
             ],
             [
              0.3333333333333333,
              "#9c179e"
             ],
             [
              0.4444444444444444,
              "#bd3786"
             ],
             [
              0.5555555555555556,
              "#d8576b"
             ],
             [
              0.6666666666666666,
              "#ed7953"
             ],
             [
              0.7777777777777778,
              "#fb9f3a"
             ],
             [
              0.8888888888888888,
              "#fdca26"
             ],
             [
              1,
              "#f0f921"
             ]
            ],
            "type": "histogram2dcontour"
           }
          ],
          "mesh3d": [
           {
            "colorbar": {
             "outlinewidth": 0,
             "ticks": ""
            },
            "type": "mesh3d"
           }
          ],
          "parcoords": [
           {
            "line": {
             "colorbar": {
              "outlinewidth": 0,
              "ticks": ""
             }
            },
            "type": "parcoords"
           }
          ],
          "pie": [
           {
            "automargin": true,
            "type": "pie"
           }
          ],
          "scatter": [
           {
            "fillpattern": {
             "fillmode": "overlay",
             "size": 10,
             "solidity": 0.2
            },
            "type": "scatter"
           }
          ],
          "scatter3d": [
           {
            "line": {
             "colorbar": {
              "outlinewidth": 0,
              "ticks": ""
             }
            },
            "marker": {
             "colorbar": {
              "outlinewidth": 0,
              "ticks": ""
             }
            },
            "type": "scatter3d"
           }
          ],
          "scattercarpet": [
           {
            "marker": {
             "colorbar": {
              "outlinewidth": 0,
              "ticks": ""
             }
            },
            "type": "scattercarpet"
           }
          ],
          "scattergeo": [
           {
            "marker": {
             "colorbar": {
              "outlinewidth": 0,
              "ticks": ""
             }
            },
            "type": "scattergeo"
           }
          ],
          "scattergl": [
           {
            "marker": {
             "colorbar": {
              "outlinewidth": 0,
              "ticks": ""
             }
            },
            "type": "scattergl"
           }
          ],
          "scattermapbox": [
           {
            "marker": {
             "colorbar": {
              "outlinewidth": 0,
              "ticks": ""
             }
            },
            "type": "scattermapbox"
           }
          ],
          "scatterpolar": [
           {
            "marker": {
             "colorbar": {
              "outlinewidth": 0,
              "ticks": ""
             }
            },
            "type": "scatterpolar"
           }
          ],
          "scatterpolargl": [
           {
            "marker": {
             "colorbar": {
              "outlinewidth": 0,
              "ticks": ""
             }
            },
            "type": "scatterpolargl"
           }
          ],
          "scatterternary": [
           {
            "marker": {
             "colorbar": {
              "outlinewidth": 0,
              "ticks": ""
             }
            },
            "type": "scatterternary"
           }
          ],
          "surface": [
           {
            "colorbar": {
             "outlinewidth": 0,
             "ticks": ""
            },
            "colorscale": [
             [
              0,
              "#0d0887"
             ],
             [
              0.1111111111111111,
              "#46039f"
             ],
             [
              0.2222222222222222,
              "#7201a8"
             ],
             [
              0.3333333333333333,
              "#9c179e"
             ],
             [
              0.4444444444444444,
              "#bd3786"
             ],
             [
              0.5555555555555556,
              "#d8576b"
             ],
             [
              0.6666666666666666,
              "#ed7953"
             ],
             [
              0.7777777777777778,
              "#fb9f3a"
             ],
             [
              0.8888888888888888,
              "#fdca26"
             ],
             [
              1,
              "#f0f921"
             ]
            ],
            "type": "surface"
           }
          ],
          "table": [
           {
            "cells": {
             "fill": {
              "color": "#EBF0F8"
             },
             "line": {
              "color": "white"
             }
            },
            "header": {
             "fill": {
              "color": "#C8D4E3"
             },
             "line": {
              "color": "white"
             }
            },
            "type": "table"
           }
          ]
         },
         "layout": {
          "annotationdefaults": {
           "arrowcolor": "#2a3f5f",
           "arrowhead": 0,
           "arrowwidth": 1
          },
          "autotypenumbers": "strict",
          "coloraxis": {
           "colorbar": {
            "outlinewidth": 0,
            "ticks": ""
           }
          },
          "colorscale": {
           "diverging": [
            [
             0,
             "#8e0152"
            ],
            [
             0.1,
             "#c51b7d"
            ],
            [
             0.2,
             "#de77ae"
            ],
            [
             0.3,
             "#f1b6da"
            ],
            [
             0.4,
             "#fde0ef"
            ],
            [
             0.5,
             "#f7f7f7"
            ],
            [
             0.6,
             "#e6f5d0"
            ],
            [
             0.7,
             "#b8e186"
            ],
            [
             0.8,
             "#7fbc41"
            ],
            [
             0.9,
             "#4d9221"
            ],
            [
             1,
             "#276419"
            ]
           ],
           "sequential": [
            [
             0,
             "#0d0887"
            ],
            [
             0.1111111111111111,
             "#46039f"
            ],
            [
             0.2222222222222222,
             "#7201a8"
            ],
            [
             0.3333333333333333,
             "#9c179e"
            ],
            [
             0.4444444444444444,
             "#bd3786"
            ],
            [
             0.5555555555555556,
             "#d8576b"
            ],
            [
             0.6666666666666666,
             "#ed7953"
            ],
            [
             0.7777777777777778,
             "#fb9f3a"
            ],
            [
             0.8888888888888888,
             "#fdca26"
            ],
            [
             1,
             "#f0f921"
            ]
           ],
           "sequentialminus": [
            [
             0,
             "#0d0887"
            ],
            [
             0.1111111111111111,
             "#46039f"
            ],
            [
             0.2222222222222222,
             "#7201a8"
            ],
            [
             0.3333333333333333,
             "#9c179e"
            ],
            [
             0.4444444444444444,
             "#bd3786"
            ],
            [
             0.5555555555555556,
             "#d8576b"
            ],
            [
             0.6666666666666666,
             "#ed7953"
            ],
            [
             0.7777777777777778,
             "#fb9f3a"
            ],
            [
             0.8888888888888888,
             "#fdca26"
            ],
            [
             1,
             "#f0f921"
            ]
           ]
          },
          "colorway": [
           "#636efa",
           "#EF553B",
           "#00cc96",
           "#ab63fa",
           "#FFA15A",
           "#19d3f3",
           "#FF6692",
           "#B6E880",
           "#FF97FF",
           "#FECB52"
          ],
          "font": {
           "color": "#2a3f5f"
          },
          "geo": {
           "bgcolor": "white",
           "lakecolor": "white",
           "landcolor": "#E5ECF6",
           "showlakes": true,
           "showland": true,
           "subunitcolor": "white"
          },
          "hoverlabel": {
           "align": "left"
          },
          "hovermode": "closest",
          "mapbox": {
           "style": "light"
          },
          "paper_bgcolor": "white",
          "plot_bgcolor": "#E5ECF6",
          "polar": {
           "angularaxis": {
            "gridcolor": "white",
            "linecolor": "white",
            "ticks": ""
           },
           "bgcolor": "#E5ECF6",
           "radialaxis": {
            "gridcolor": "white",
            "linecolor": "white",
            "ticks": ""
           }
          },
          "scene": {
           "xaxis": {
            "backgroundcolor": "#E5ECF6",
            "gridcolor": "white",
            "gridwidth": 2,
            "linecolor": "white",
            "showbackground": true,
            "ticks": "",
            "zerolinecolor": "white"
           },
           "yaxis": {
            "backgroundcolor": "#E5ECF6",
            "gridcolor": "white",
            "gridwidth": 2,
            "linecolor": "white",
            "showbackground": true,
            "ticks": "",
            "zerolinecolor": "white"
           },
           "zaxis": {
            "backgroundcolor": "#E5ECF6",
            "gridcolor": "white",
            "gridwidth": 2,
            "linecolor": "white",
            "showbackground": true,
            "ticks": "",
            "zerolinecolor": "white"
           }
          },
          "shapedefaults": {
           "line": {
            "color": "#2a3f5f"
           }
          },
          "ternary": {
           "aaxis": {
            "gridcolor": "white",
            "linecolor": "white",
            "ticks": ""
           },
           "baxis": {
            "gridcolor": "white",
            "linecolor": "white",
            "ticks": ""
           },
           "bgcolor": "#E5ECF6",
           "caxis": {
            "gridcolor": "white",
            "linecolor": "white",
            "ticks": ""
           }
          },
          "title": {
           "x": 0.05
          },
          "xaxis": {
           "automargin": true,
           "gridcolor": "white",
           "linecolor": "white",
           "ticks": "",
           "title": {
            "standoff": 15
           },
           "zerolinecolor": "white",
           "zerolinewidth": 2
          },
          "yaxis": {
           "automargin": true,
           "gridcolor": "white",
           "linecolor": "white",
           "ticks": "",
           "title": {
            "standoff": 15
           },
           "zerolinecolor": "white",
           "zerolinewidth": 2
          }
         }
        },
        "title": {
         "text": "110 年-退學人數分布"
        }
       }
      }
     },
     "metadata": {},
     "output_type": "display_data"
    }
   ],
   "source": [
    "# import matplotlib.pyplot as plt\n",
    "from plotly.subplots import make_subplots\n",
    "import plotly.express as px\n",
    "\n",
    "\n",
    "for i in range(5):\n",
    "    year = 106+i\n",
    "\n",
    "    label1 = df1.iloc[i, 2:].T.index\n",
    "    fig1 = px.pie(df1.iloc[i, 2:].T, values=i, names=label1)\n",
    "    label2 = df2.iloc[i, 2:].T.index\n",
    "    fig2 = px.pie(df2.iloc[i, 2:].T, values=i, names=label2)\n",
    "\n",
    "    fig = make_subplots(rows=1, cols=2, specs=[[{'type': 'pie'}, {'type': 'pie'}]])\n",
    "\n",
    "    fig.add_trace(fig1['data'][0], row=1, col=1)\n",
    "\n",
    "    fig.add_trace(fig2['data'][0], row=1, col=2)\n",
    "\n",
    "    fig.update_layout(title_text=f'{year} 年-退學人數分布')\n",
    "\n",
    "    fig.show()"
   ]
  },
  {
   "cell_type": "code",
   "execution_count": null,
   "metadata": {},
   "outputs": [],
   "source": []
  }
 ],
 "metadata": {
  "kernelspec": {
   "display_name": "Python 3",
   "language": "python",
   "name": "python3"
  },
  "language_info": {
   "codemirror_mode": {
    "name": "ipython",
    "version": 3
   },
   "file_extension": ".py",
   "mimetype": "text/x-python",
   "name": "python",
   "nbconvert_exporter": "python",
   "pygments_lexer": "ipython3",
   "version": "3.12.0"
  }
 },
 "nbformat": 4,
 "nbformat_minor": 2
}
